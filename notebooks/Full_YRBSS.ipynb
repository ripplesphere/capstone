{
 "cells": [
  {
   "cell_type": "code",
   "execution_count": 1,
   "metadata": {},
   "outputs": [],
   "source": [
    "import pandas as pd\n",
    "import matplotlib.pyplot as plt\n",
    "import seaborn as sns\n",
    "\n",
    "#this is a python magic function to automatically show matplotlib plots\n",
    "%matplotlib inline   "
   ]
  },
  {
   "cell_type": "code",
   "execution_count": 2,
   "metadata": {},
   "outputs": [],
   "source": [
    "yrbss = pd.read_csv('../data/yrbss_2017.csv')"
   ]
  },
  {
   "cell_type": "code",
   "execution_count": 3,
   "metadata": {},
   "outputs": [
    {
     "data": {
      "text/html": [
       "<div>\n",
       "<style scoped>\n",
       "    .dataframe tbody tr th:only-of-type {\n",
       "        vertical-align: middle;\n",
       "    }\n",
       "\n",
       "    .dataframe tbody tr th {\n",
       "        vertical-align: top;\n",
       "    }\n",
       "\n",
       "    .dataframe thead th {\n",
       "        text-align: right;\n",
       "    }\n",
       "</style>\n",
       "<table border=\"1\" class=\"dataframe\">\n",
       "  <thead>\n",
       "    <tr style=\"text-align: right;\">\n",
       "      <th></th>\n",
       "      <th>YEAR</th>\n",
       "      <th>LocationAbbr</th>\n",
       "      <th>LocationDesc</th>\n",
       "      <th>DataSource</th>\n",
       "      <th>Topic</th>\n",
       "      <th>Subtopic</th>\n",
       "      <th>ShortQuestionText</th>\n",
       "      <th>Greater_Risk_Question</th>\n",
       "      <th>Description</th>\n",
       "      <th>Data_Value_Symbol</th>\n",
       "      <th>...</th>\n",
       "      <th>SubTopicID</th>\n",
       "      <th>QuestionCode</th>\n",
       "      <th>LocationId</th>\n",
       "      <th>StratID1</th>\n",
       "      <th>StratID2</th>\n",
       "      <th>StratID3</th>\n",
       "      <th>StratID4</th>\n",
       "      <th>StratID5</th>\n",
       "      <th>StratificationType</th>\n",
       "      <th>StratID6</th>\n",
       "    </tr>\n",
       "  </thead>\n",
       "  <tbody>\n",
       "    <tr>\n",
       "      <th>0</th>\n",
       "      <td>2017</td>\n",
       "      <td>NC</td>\n",
       "      <td>North Carolina</td>\n",
       "      <td>YRBSS</td>\n",
       "      <td>Dietary Behaviors</td>\n",
       "      <td>Breakfast</td>\n",
       "      <td>Daily breakfast eating</td>\n",
       "      <td>Did not eat breakfast on all 7 days</td>\n",
       "      <td>during the 7 days before the survey</td>\n",
       "      <td>%</td>\n",
       "      <td>...</td>\n",
       "      <td>C24</td>\n",
       "      <td>QNBK7DAY</td>\n",
       "      <td>37.0</td>\n",
       "      <td>S1</td>\n",
       "      <td>R13</td>\n",
       "      <td>G4</td>\n",
       "      <td>NC</td>\n",
       "      <td>I23</td>\n",
       "      <td>State</td>\n",
       "      <td>P1</td>\n",
       "    </tr>\n",
       "  </tbody>\n",
       "</table>\n",
       "<p>1 rows × 40 columns</p>\n",
       "</div>"
      ],
      "text/plain": [
       "   YEAR LocationAbbr    LocationDesc DataSource              Topic   Subtopic  \\\n",
       "0  2017           NC  North Carolina      YRBSS  Dietary Behaviors  Breakfast   \n",
       "\n",
       "        ShortQuestionText                Greater_Risk_Question  \\\n",
       "0  Daily breakfast eating  Did not eat breakfast on all 7 days   \n",
       "\n",
       "                           Description Data_Value_Symbol  ... SubTopicID  \\\n",
       "0  during the 7 days before the survey                 %  ...        C24   \n",
       "\n",
       "   QuestionCode  LocationId  StratID1  StratID2  StratID3 StratID4  StratID5  \\\n",
       "0      QNBK7DAY        37.0        S1       R13        G4       NC       I23   \n",
       "\n",
       "   StratificationType  StratID6  \n",
       "0               State        P1  \n",
       "\n",
       "[1 rows x 40 columns]"
      ]
     },
     "execution_count": 3,
     "metadata": {},
     "output_type": "execute_result"
    }
   ],
   "source": [
    "yrbss.head(1)"
   ]
  },
  {
   "cell_type": "code",
   "execution_count": 4,
   "metadata": {},
   "outputs": [
    {
     "data": {
      "text/plain": [
       "Index(['YEAR', 'LocationAbbr', 'LocationDesc', 'DataSource', 'Topic',\n",
       "       'Subtopic', 'ShortQuestionText', 'Greater_Risk_Question', 'Description',\n",
       "       'Data_Value_Symbol', 'Data_Value_Type', 'Greater_Risk_Data_Value',\n",
       "       'Greater_Risk_Data_Value_Footnote_Symbol',\n",
       "       'Greater_Risk_Data_Value_Footnote', 'Greater_Risk_Low_Confidence_Limit',\n",
       "       'Greater_Risk_High_Confidence_Limit', 'Lesser_Risk_Question',\n",
       "       'Lesser_Risk_Data_Value', 'Lesser_Risk_Data_Value_Footnote_Symbol',\n",
       "       'Lesser_Risk_Data_Value_Footnote', 'Lesser_Risk_Low_Confidence_Limit',\n",
       "       'Lesser_Risk_High_Confidence_Limit', 'Sample_Size', 'Sex', 'Race',\n",
       "       'Grade', 'SexualIdentity', 'SexOfSexualContacts', 'GeoLocation',\n",
       "       'TopicId', 'SubTopicID', 'QuestionCode', 'LocationId', 'StratID1',\n",
       "       'StratID2', 'StratID3', 'StratID4', 'StratID5', 'StratificationType',\n",
       "       'StratID6'],\n",
       "      dtype='object')"
      ]
     },
     "execution_count": 4,
     "metadata": {},
     "output_type": "execute_result"
    }
   ],
   "source": [
    "yrbss.columns"
   ]
  },
  {
   "cell_type": "code",
   "execution_count": null,
   "metadata": {},
   "outputs": [],
   "source": [
    "sns.countplot(\n",
    "    data=yrbss,\n",
    "    y=\"Subtopic\"\n",
    ")"
   ]
  },
  {
   "cell_type": "code",
   "execution_count": null,
   "metadata": {},
   "outputs": [],
   "source": [
    "yrbss['Topic'].value_counts()"
   ]
  },
  {
   "cell_type": "code",
   "execution_count": null,
   "metadata": {},
   "outputs": [],
   "source": [
    "df = yrbss[yrbss['Topic'] == 'Dietary Behaviors']"
   ]
  },
  {
   "cell_type": "code",
   "execution_count": null,
   "metadata": {},
   "outputs": [],
   "source": [
    "df.shape"
   ]
  },
  {
   "cell_type": "code",
   "execution_count": null,
   "metadata": {},
   "outputs": [],
   "source": [
    "sns.countplot(\n",
    "    data=df,\n",
    "    y=\"Subtopic\"\n",
    ")"
   ]
  },
  {
   "cell_type": "code",
   "execution_count": null,
   "metadata": {},
   "outputs": [],
   "source": [
    "df1 = yrbss[yrbss['Subtopic'] == 'Milk']"
   ]
  },
  {
   "cell_type": "code",
   "execution_count": null,
   "metadata": {},
   "outputs": [],
   "source": [
    "df1.shape"
   ]
  },
  {
   "cell_type": "code",
   "execution_count": null,
   "metadata": {},
   "outputs": [],
   "source": [
    "sns.countplot(\n",
    "    data=df1,\n",
    "    y=\"ShortQuestionText\"\n",
    ")"
   ]
  },
  {
   "cell_type": "code",
   "execution_count": null,
   "metadata": {
    "scrolled": true
   },
   "outputs": [],
   "source": [
    "test = yrbss['Topic'].value_counts()"
   ]
  },
  {
   "cell_type": "code",
   "execution_count": null,
   "metadata": {},
   "outputs": [],
   "source": [
    "topic = yrbss[yrbss['Topic'] == 'Unintentional Injuries and Violence']\n",
    "subtopic = topic['Subtopic'].value_counts()"
   ]
  },
  {
   "cell_type": "code",
   "execution_count": null,
   "metadata": {},
   "outputs": [],
   "source": [
    "subtopic"
   ]
  },
  {
   "cell_type": "code",
   "execution_count": null,
   "metadata": {},
   "outputs": [],
   "source": [
    "yrbss['Topic'].value_counts()"
   ]
  },
  {
   "cell_type": "code",
   "execution_count": null,
   "metadata": {},
   "outputs": [],
   "source": [
    "for topic in test.index.tolist():\n",
    "    print(topic)\n",
    "    "
   ]
  },
  {
   "cell_type": "code",
   "execution_count": null,
   "metadata": {},
   "outputs": [],
   "source": []
  }
 ],
 "metadata": {
  "kernelspec": {
   "display_name": "Python 3",
   "language": "python",
   "name": "python3"
  },
  "language_info": {
   "codemirror_mode": {
    "name": "ipython",
    "version": 3
   },
   "file_extension": ".py",
   "mimetype": "text/x-python",
   "name": "python",
   "nbconvert_exporter": "python",
   "pygments_lexer": "ipython3",
   "version": "3.8.5"
  }
 },
 "nbformat": 4,
 "nbformat_minor": 4
}
