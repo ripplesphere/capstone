{
 "cells": [
  {
   "cell_type": "code",
   "execution_count": 27,
   "metadata": {},
   "outputs": [],
   "source": [
    "import pandas as pd"
   ]
  },
  {
   "cell_type": "code",
   "execution_count": 28,
   "metadata": {},
   "outputs": [],
   "source": [
    "yrbss = pd.read_csv('../data/yrbss_2017.csv')\n",
    "us = yrbss[yrbss['LocationAbbr'] == 'XX']"
   ]
  },
  {
   "cell_type": "code",
   "execution_count": 29,
   "metadata": {},
   "outputs": [],
   "source": [
    "def question_loop(topic, subtopic, risk_question, question_df):\n",
    "    Gender = ['Male', 'Female']\n",
    "    Race = ['Asian', 'Black or African American', 'Hispanic or Latino', 'White', \n",
    "        'Multiple Race', 'American Indian or Alaska Native', 'Native Hawaiian or Other Pacific Islander']\n",
    "    Sexuality = ['Gay or lesbian', 'Bisexual', 'Not sure', 'Heterosexual (straight)']\n",
    "    \n",
    "    group = []\n",
    "    data_val = []\n",
    "    low_val = []\n",
    "    high_val = []\n",
    "    significance = []\n",
    "\n",
    "    # The overall results for this question, all significance tests will go against these values\n",
    "    q_total = question_df[(question_df['Grade'] == 'Total') & (question_df['Sex'] == 'Total') &\n",
    "        (question_df['Race'] == 'Total') & (question_df['SexualIdentity'] == 'Total') & \n",
    "        (question_df['SexOfSexualContacts'] == 'Total')]\n",
    "    q_val = q_total['Greater_Risk_Data_Value'].iloc[0]\n",
    "    q_low = q_total['Greater_Risk_Low_Confidence_Limit'].iloc[0]\n",
    "    q_high = q_total['Greater_Risk_High_Confidence_Limit'].iloc[0]\n",
    "    \n",
    "    for gender in Gender:\n",
    "        web_total = question_df[(question_df['Grade'] == 'Total') & (question_df['Sex'] == gender) &\n",
    "            (question_df['Race'] == 'Total') & (question_df['SexualIdentity'] == 'Total') & \n",
    "            (question_df['SexOfSexualContacts'] == 'Total')]\n",
    "        g_val = web_total['Greater_Risk_Data_Value'].iloc[0]\n",
    "        g_low = web_total['Greater_Risk_Low_Confidence_Limit'].iloc[0]\n",
    "        g_high = web_total['Greater_Risk_High_Confidence_Limit'].iloc[0]\n",
    "        if g_val > q_high and q_val < g_low:\n",
    "            group.append(gender)\n",
    "            data_val.append(g_val)\n",
    "            low_val.append(g_low)\n",
    "            high_val.append(g_high)\n",
    "            significance.append('more')\n",
    "    for race in Race:\n",
    "        web_total = question_df[(question_df['Grade'] == 'Total') & (question_df['Sex'] == 'Total') &\n",
    "            (question_df['Race'] == race) & (question_df['SexualIdentity'] == 'Total') & \n",
    "            (question_df['SexOfSexualContacts'] == 'Total')]\n",
    "        g_val = web_total['Greater_Risk_Data_Value'].iloc[0]\n",
    "        g_low = web_total['Greater_Risk_Low_Confidence_Limit'].iloc[0]\n",
    "        g_high = web_total['Greater_Risk_High_Confidence_Limit'].iloc[0]\n",
    "        if g_val > q_high and q_val < g_low:\n",
    "            group.append(race)\n",
    "            data_val.append(g_val)\n",
    "            low_val.append(g_low)\n",
    "            high_val.append(g_high)\n",
    "            significance.append('more')\n",
    "    for sexuality in Sexuality:\n",
    "        web_total = question_df[(question_df['Grade'] == 'Total') & (question_df['Sex'] == 'Total') &\n",
    "            (question_df['Race'] == 'Total') & (question_df['SexualIdentity'] == sexuality) & \n",
    "            (question_df['SexOfSexualContacts'] == 'Total')]\n",
    "        g_val = web_total['Greater_Risk_Data_Value'].iloc[0]\n",
    "        g_low = web_total['Greater_Risk_Low_Confidence_Limit'].iloc[0]\n",
    "        g_high = web_total['Greater_Risk_High_Confidence_Limit'].iloc[0] \n",
    "        if g_val > q_high and q_val < g_low:\n",
    "            group.append(sexuality)\n",
    "            data_val.append(g_val)\n",
    "            low_val.append(g_low)\n",
    "            high_val.append(g_high)\n",
    "            significance.append('more')\n",
    "            \n",
    "    question_results_df = pd.DataFrame.from_dict({'topic': topic, 'subtopic': subtopic, \n",
    "            'question': risk_question, 'group': group, 'data_val': data_val, \n",
    "            'low_val': low_val, 'high_val': high_val, 'significance': significance})\n",
    "    return question_results_df"
   ]
  },
  {
   "cell_type": "code",
   "execution_count": 30,
   "metadata": {},
   "outputs": [
    {
     "data": {
      "text/plain": [
       "(341, 8)"
      ]
     },
     "execution_count": 30,
     "metadata": {},
     "output_type": "execute_result"
    }
   ],
   "source": [
    "question_results_df = pd.DataFrame()\n",
    "for topic in us['Topic'].value_counts().items():\n",
    "    #print('topic', topic)\n",
    "    topic_df = us[us['Topic'] == topic[0]]\n",
    "    for subtopic in topic_df['Subtopic'].value_counts().items():\n",
    "        #print('subtopic', subtopic)\n",
    "        subtopic_df = topic_df[topic_df['Subtopic'] == subtopic[0]]\n",
    "        for risk_question in subtopic_df['Greater_Risk_Question'].value_counts().items():\n",
    "            #print('risk_question', risk_question)\n",
    "            risk_question_df = subtopic_df[subtopic_df['Greater_Risk_Question'] == risk_question[0]]\n",
    "            results_df = question_loop(topic[0], subtopic[0], risk_question[0], risk_question_df)\n",
    "            question_results_df = question_results_df.append(results_df)\n",
    "question_results_df.shape"
   ]
  },
  {
   "cell_type": "code",
   "execution_count": 31,
   "metadata": {},
   "outputs": [],
   "source": [
    "# Switch group list to create the dataframe for each of the group types\n",
    "Group = ['Gay or lesbian', 'Bisexual', 'Not sure', 'Heterosexual (straight)']\n",
    "\n",
    "# ['Asian', 'Black or African American', 'Hispanic or Latino', 'White', \n",
    "#         'Multiple Race', 'American Indian or Alaska Native', \n",
    "#          'Native Hawaiian or Other Pacific Islander']\n",
    "\n",
    "# ['Male', 'Female']\n",
    "\n",
    "topics = list(question_results_df['topic'].unique())\n",
    "group_count_df = pd.DataFrame(0, index=topics, columns=Group)\n",
    "for topic in question_results_df['topic'].unique():\n",
    "    topic_df = question_results_df[(question_results_df['topic'] == topic)]\n",
    "    for group in Group:\n",
    "        group_count_df.at[topic,group] = len(topic_df[(topic_df['group'] == group)])\n",
    "group_count_df.to_csv('../data/data_df.csv')"
   ]
  },
  {
   "cell_type": "code",
   "execution_count": null,
   "metadata": {},
   "outputs": [],
   "source": []
  }
 ],
 "metadata": {
  "kernelspec": {
   "display_name": "Python 3",
   "language": "python",
   "name": "python3"
  },
  "language_info": {
   "codemirror_mode": {
    "name": "ipython",
    "version": 3
   },
   "file_extension": ".py",
   "mimetype": "text/x-python",
   "name": "python",
   "nbconvert_exporter": "python",
   "pygments_lexer": "ipython3",
   "version": "3.8.5"
  }
 },
 "nbformat": 4,
 "nbformat_minor": 4
}
