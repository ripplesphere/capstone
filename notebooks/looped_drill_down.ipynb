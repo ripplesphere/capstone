{
 "cells": [
  {
   "cell_type": "markdown",
   "metadata": {},
   "source": [
    "### This notebook is to test the bottom most loop of the algorithm."
   ]
  },
  {
   "cell_type": "code",
   "execution_count": 1,
   "metadata": {},
   "outputs": [],
   "source": [
    "import pandas as pd\n",
    "\n",
    "pd.set_option('display.max_columns', None)"
   ]
  },
  {
   "cell_type": "code",
   "execution_count": 49,
   "metadata": {},
   "outputs": [],
   "source": [
    "# These are the elements of the three groups which will be looped over for each question.\n",
    "Gender = ['Male', 'Female']\n",
    "Race = ['Asian', 'Black or African American', 'Hispanic or Latino', 'White', \n",
    "        'Multiple Race', 'American Indian or Alaska Native', 'Native Hawaiian or Other Pacific Islander']\n",
    "Sexuality = ['Gay or lesbian', 'Gay, lesbian, or bisexual', 'Bisexual', 'Not sure', \n",
    "        'Heterosexual (straight)']"
   ]
  },
  {
   "cell_type": "code",
   "execution_count": 19,
   "metadata": {},
   "outputs": [],
   "source": [
    "# Create a dataframe which holds just the rows needed to be looped over in this notebook\n",
    "yrbss = pd.read_csv('../data/yrbss_2017.csv')\n",
    "us = yrbss[yrbss['LocationAbbr'] == 'XX']\n",
    "uiv = us[us['Topic'] == 'Unintentional Injuries and Violence']\n",
    "bcv = uiv[uiv['Subtopic'] == 'Behaviors that Contribute to Violence']\n",
    "question = bcv[bcv['Greater_Risk_Question'] == 'Were electronically bullied']"
   ]
  },
  {
   "cell_type": "code",
   "execution_count": 9,
   "metadata": {},
   "outputs": [],
   "source": [
    "results_df = pd.DataFrame()"
   ]
  },
  {
   "cell_type": "code",
   "execution_count": 57,
   "metadata": {},
   "outputs": [
    {
     "name": "stdout",
     "output_type": "stream",
     "text": [
      "q_total 14.9369 13.7456 16.2121\n"
     ]
    }
   ],
   "source": [
    "# The overall results for this question, all significance tests will go against these values\n",
    "q_total = question[(question['Grade'] == 'Total') & (question['Sex'] == 'Total') &\n",
    "    (question['Race'] == 'Total') & (question['SexualIdentity'] == 'Total') & \n",
    "    (question['SexOfSexualContacts'] == 'Total')]\n",
    "q_val = q_total['Greater_Risk_Data_Value'].iloc[0]\n",
    "q_low = q_total['Greater_Risk_Low_Confidence_Limit'].iloc[0]\n",
    "q_high = q_total['Greater_Risk_High_Confidence_Limit'].iloc[0]\n",
    "print('q_total', q_val, q_low, q_high)"
   ]
  },
  {
   "cell_type": "code",
   "execution_count": 58,
   "metadata": {},
   "outputs": [
    {
     "name": "stdout",
     "output_type": "stream",
     "text": [
      "q_total 14.9369 13.7456 16.2121\n",
      "Male less 9.9111 9.1891 10.6831\n",
      "Female more 19.7383 17.4162 22.2864\n"
     ]
    }
   ],
   "source": [
    "print('q_total', q_val, q_low, q_high)\n",
    "for gender in Gender:\n",
    "    web_total = web[(web['Grade'] == 'Total') & (web['Sex'] == gender) &\n",
    "        (web['Race'] == 'Total') & (web['SexualIdentity'] == 'Total') & (web['SexOfSexualContacts'] == 'Total')]\n",
    "    g_val = web_total['Greater_Risk_Data_Value'].iloc[0]\n",
    "    g_low = web_total['Greater_Risk_Low_Confidence_Limit'].iloc[0]\n",
    "    g_high = web_total['Greater_Risk_High_Confidence_Limit'].iloc[0]\n",
    "    if g_val < q_low and q_val > g_high:\n",
    "        print(gender, 'less', g_val, g_low, g_high)\n",
    "    elif g_val > q_high and q_val < g_low:\n",
    "        print(gender, 'more', g_val, g_low, g_high)\n",
    "    else:\n",
    "        print(gender, 'no sig', g_val, g_low, g_high)"
   ]
  },
  {
   "cell_type": "code",
   "execution_count": 60,
   "metadata": {},
   "outputs": [
    {
     "name": "stdout",
     "output_type": "stream",
     "text": [
      "q_total 14.9369 13.7456 16.2121\n",
      "Asian less 10.0449 7.3943 13.5071\n",
      "Black or African American less 10.8866 8.9959 13.1173\n",
      "Hispanic or Latino less 12.283 11.5039 13.107000000000001\n",
      "White more 17.3498 15.6353 19.2095\n",
      "Multiple Race no sig 16.0412 12.0546 21.031\n",
      "American Indian or Alaska Native no sig 13.1927 7.2066 22.9227\n",
      "Native Hawaiian or Other Pacific Islander no sig 15.0359 10.2643 21.4943\n"
     ]
    }
   ],
   "source": [
    "print('q_total', q_val, q_low, q_high)\n",
    "for race in Race:\n",
    "    web_total = web[(web['Grade'] == 'Total') & (web['Sex'] == 'Total') &\n",
    "        (web['Race'] == race) & (web['SexualIdentity'] == 'Total') & (web['SexOfSexualContacts'] == 'Total')]\n",
    "    g_val = web_total['Greater_Risk_Data_Value'].iloc[0]\n",
    "    g_low = web_total['Greater_Risk_Low_Confidence_Limit'].iloc[0]\n",
    "    g_high = web_total['Greater_Risk_High_Confidence_Limit'].iloc[0]\n",
    "    if g_val < q_low and q_val > g_high:\n",
    "        print(race, 'less', g_val, g_low, g_high)\n",
    "    elif g_val > q_high and q_val < g_low:\n",
    "        print(race, 'more', g_val, g_low, g_high)\n",
    "    else:\n",
    "        print(race, 'no sig', g_val, g_low, g_high)"
   ]
  },
  {
   "cell_type": "code",
   "execution_count": 62,
   "metadata": {},
   "outputs": [
    {
     "name": "stdout",
     "output_type": "stream",
     "text": [
      "q_total 14.9369 13.7456 16.2121\n",
      "Gay or lesbian no sig 18.3849 14.4083 23.162\n",
      "Gay, lesbian, or bisexual more 27.0578 23.1161 31.3971\n",
      "Bisexual more 29.6005 24.7944 34.9058\n",
      "Not sure more 21.9765 16.9313 28.0181\n",
      "Heterosexual (straight) less 13.3442 12.3753 14.3765\n"
     ]
    }
   ],
   "source": [
    "print('q_total', q_val, q_low, q_high)\n",
    "for sexuality in Sexuality:\n",
    "    web_total = web[(web['Grade'] == 'Total') & (web['Sex'] == 'Total') &\n",
    "        (web['Race'] == 'Total') & (web['SexualIdentity'] == sexuality) & (web['SexOfSexualContacts'] == 'Total')]\n",
    "    g_val = web_total['Greater_Risk_Data_Value'].iloc[0]\n",
    "    g_low = web_total['Greater_Risk_Low_Confidence_Limit'].iloc[0]\n",
    "    g_high = web_total['Greater_Risk_High_Confidence_Limit'].iloc[0] \n",
    "    if g_val < q_low and q_val > g_high:\n",
    "        print(sexuality, 'less', g_val, g_low, g_high)\n",
    "    elif g_val > q_high and q_val < g_low:\n",
    "        print(sexuality, 'more', g_val, g_low, g_high)\n",
    "    else:\n",
    "        print(sexuality, 'no sig', g_val,  g_low, g_high)"
   ]
  },
  {
   "cell_type": "code",
   "execution_count": null,
   "metadata": {},
   "outputs": [],
   "source": []
  }
 ],
 "metadata": {
  "kernelspec": {
   "display_name": "Python 3",
   "language": "python",
   "name": "python3"
  },
  "language_info": {
   "codemirror_mode": {
    "name": "ipython",
    "version": 3
   },
   "file_extension": ".py",
   "mimetype": "text/x-python",
   "name": "python",
   "nbconvert_exporter": "python",
   "pygments_lexer": "ipython3",
   "version": "3.8.5"
  }
 },
 "nbformat": 4,
 "nbformat_minor": 4
}
