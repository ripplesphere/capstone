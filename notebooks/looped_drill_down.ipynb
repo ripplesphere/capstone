{
 "cells": [
  {
   "cell_type": "code",
   "execution_count": 1,
   "metadata": {},
   "outputs": [],
   "source": [
    "import pandas as pd\n",
    "\n",
    "pd.set_option('display.max_columns', None)"
   ]
  },
  {
   "cell_type": "code",
   "execution_count": 67,
   "metadata": {},
   "outputs": [],
   "source": [
    "gender = ['male', 'female']\n",
    "race = ['Asian', 'Black or African American', 'Hispanic or Latino', 'White', 'Total', \n",
    "        'Multiple Race', 'American Indian or Alaska Native', 'Native Hawaiian or Other Pacific Islander']\n",
    "sexuality = ['Gay or lesbian', 'Gay, lesbian, or bisexual', 'Bisexual', 'Not sure', \n",
    "        'Heterosexual (straight)']"
   ]
  },
  {
   "cell_type": "code",
   "execution_count": 2,
   "metadata": {},
   "outputs": [],
   "source": [
    "yrbss = pd.read_csv('../data/yrbss_2017.csv')"
   ]
  },
  {
   "cell_type": "code",
   "execution_count": 3,
   "metadata": {},
   "outputs": [],
   "source": [
    "us = yrbss[yrbss['LocationAbbr'] == 'XX']"
   ]
  },
  {
   "cell_type": "code",
   "execution_count": 11,
   "metadata": {},
   "outputs": [],
   "source": [
    "uiv = us[us['Topic'] == 'Unintentional Injuries and Violence']"
   ]
  },
  {
   "cell_type": "code",
   "execution_count": 12,
   "metadata": {},
   "outputs": [],
   "source": [
    "bcv = uiv[uiv['Subtopic'] == 'Behaviors that Contribute to Violence']"
   ]
  },
  {
   "cell_type": "code",
   "execution_count": 13,
   "metadata": {},
   "outputs": [],
   "source": [
    "web = bcv[bcv['Greater_Risk_Question'] == 'Were electronically bullied']"
   ]
  },
  {
   "cell_type": "code",
   "execution_count": 15,
   "metadata": {},
   "outputs": [
    {
     "data": {
      "text/plain": [
       "12th     264\n",
       "10th     264\n",
       "9th      264\n",
       "Total    264\n",
       "11th     264\n",
       "Name: Grade, dtype: int64"
      ]
     },
     "execution_count": 15,
     "metadata": {},
     "output_type": "execute_result"
    }
   ],
   "source": [
    "web['Grade'].value_counts()"
   ]
  },
  {
   "cell_type": "code",
   "execution_count": 45,
   "metadata": {},
   "outputs": [],
   "source": [
    "results_df = pd.DataFrame()"
   ]
  },
  {
   "cell_type": "code",
   "execution_count": 50,
   "metadata": {},
   "outputs": [],
   "source": [
    "web_total = web[(web['Grade'] == 'Total') & (web['Sex'] == 'Male') &\n",
    "    (web['Race'] == 'Total') & (web['SexualIdentity'] == 'Total') & (web['SexOfSexualContacts'] == 'Total')]\n",
    "male = float(web_total['Sample_Size'].iloc[0])"
   ]
  },
  {
   "cell_type": "code",
   "execution_count": 51,
   "metadata": {},
   "outputs": [],
   "source": [
    "web_total = web[(web['Grade'] == 'Total') & (web['Sex'] == 'Female') &\n",
    "    (web['Race'] == 'Total') & (web['SexualIdentity'] == 'Total') & (web['SexOfSexualContacts'] == 'Total')]\n",
    "female = float(web_total['Sample_Size'].iloc[0])"
   ]
  },
  {
   "cell_type": "code",
   "execution_count": 55,
   "metadata": {},
   "outputs": [],
   "source": [
    "results_df = pd.DataFrame({'gender': [male, female]})"
   ]
  },
  {
   "cell_type": "code",
   "execution_count": 57,
   "metadata": {},
   "outputs": [
    {
     "data": {
      "text/plain": [
       "gender    317.490945\n",
       "dtype: float64"
      ]
     },
     "execution_count": 57,
     "metadata": {},
     "output_type": "execute_result"
    }
   ],
   "source": [
    "results_df.std()"
   ]
  },
  {
   "cell_type": "code",
   "execution_count": 59,
   "metadata": {},
   "outputs": [
    {
     "data": {
      "text/plain": [
       "Total                        720\n",
       "Gay or lesbian               120\n",
       "Gay, lesbian, or bisexual    120\n",
       "Bisexual                     120\n",
       "Not sure                     120\n",
       "Heterosexual (straight)      120\n",
       "Name: SexualIdentity, dtype: int64"
      ]
     },
     "execution_count": 59,
     "metadata": {},
     "output_type": "execute_result"
    }
   ],
   "source": [
    "web['SexualIdentity'].value_counts()"
   ]
  },
  {
   "cell_type": "code",
   "execution_count": 62,
   "metadata": {},
   "outputs": [
    {
     "data": {
      "text/html": [
       "<div>\n",
       "<style scoped>\n",
       "    .dataframe tbody tr th:only-of-type {\n",
       "        vertical-align: middle;\n",
       "    }\n",
       "\n",
       "    .dataframe tbody tr th {\n",
       "        vertical-align: top;\n",
       "    }\n",
       "\n",
       "    .dataframe thead th {\n",
       "        text-align: right;\n",
       "    }\n",
       "</style>\n",
       "<table border=\"1\" class=\"dataframe\">\n",
       "  <thead>\n",
       "    <tr style=\"text-align: right;\">\n",
       "      <th></th>\n",
       "      <th>YEAR</th>\n",
       "      <th>LocationAbbr</th>\n",
       "      <th>LocationDesc</th>\n",
       "      <th>DataSource</th>\n",
       "      <th>Topic</th>\n",
       "      <th>Subtopic</th>\n",
       "      <th>ShortQuestionText</th>\n",
       "      <th>Greater_Risk_Question</th>\n",
       "      <th>Description</th>\n",
       "      <th>Data_Value_Symbol</th>\n",
       "      <th>Data_Value_Type</th>\n",
       "      <th>Greater_Risk_Data_Value</th>\n",
       "      <th>Greater_Risk_Data_Value_Footnote_Symbol</th>\n",
       "      <th>Greater_Risk_Data_Value_Footnote</th>\n",
       "      <th>Greater_Risk_Low_Confidence_Limit</th>\n",
       "      <th>Greater_Risk_High_Confidence_Limit</th>\n",
       "      <th>Lesser_Risk_Question</th>\n",
       "      <th>Lesser_Risk_Data_Value</th>\n",
       "      <th>Lesser_Risk_Data_Value_Footnote_Symbol</th>\n",
       "      <th>Lesser_Risk_Data_Value_Footnote</th>\n",
       "      <th>Lesser_Risk_Low_Confidence_Limit</th>\n",
       "      <th>Lesser_Risk_High_Confidence_Limit</th>\n",
       "      <th>Sample_Size</th>\n",
       "      <th>Sex</th>\n",
       "      <th>Race</th>\n",
       "      <th>Grade</th>\n",
       "      <th>SexualIdentity</th>\n",
       "      <th>SexOfSexualContacts</th>\n",
       "      <th>GeoLocation</th>\n",
       "      <th>TopicId</th>\n",
       "      <th>SubTopicID</th>\n",
       "      <th>QuestionCode</th>\n",
       "      <th>LocationId</th>\n",
       "      <th>StratID1</th>\n",
       "      <th>StratID2</th>\n",
       "      <th>StratID3</th>\n",
       "      <th>StratID4</th>\n",
       "      <th>StratID5</th>\n",
       "      <th>StratificationType</th>\n",
       "      <th>StratID6</th>\n",
       "    </tr>\n",
       "  </thead>\n",
       "  <tbody>\n",
       "    <tr>\n",
       "      <th>7246191</th>\n",
       "      <td>2017</td>\n",
       "      <td>XX</td>\n",
       "      <td>United States</td>\n",
       "      <td>YRBSS</td>\n",
       "      <td>Unintentional Injuries and Violence</td>\n",
       "      <td>Behaviors that Contribute to Violence</td>\n",
       "      <td>Electronic bullying</td>\n",
       "      <td>Were electronically bullied</td>\n",
       "      <td>counting being bullied through texting, Instag...</td>\n",
       "      <td>%</td>\n",
       "      <td>Percentage</td>\n",
       "      <td>10.0449</td>\n",
       "      <td>NaN</td>\n",
       "      <td>NaN</td>\n",
       "      <td>7.3943</td>\n",
       "      <td>13.5071</td>\n",
       "      <td>Were not electronically bullied</td>\n",
       "      <td>89.9551</td>\n",
       "      <td>NaN</td>\n",
       "      <td>NaN</td>\n",
       "      <td>86.4929</td>\n",
       "      <td>92.6057</td>\n",
       "      <td>642</td>\n",
       "      <td>Total</td>\n",
       "      <td>Asian</td>\n",
       "      <td>Total</td>\n",
       "      <td>Total</td>\n",
       "      <td>Total</td>\n",
       "      <td>NaN</td>\n",
       "      <td>C01</td>\n",
       "      <td>C10</td>\n",
       "      <td>H24</td>\n",
       "      <td>59.0</td>\n",
       "      <td>S1</td>\n",
       "      <td>R11</td>\n",
       "      <td>G1</td>\n",
       "      <td>XX</td>\n",
       "      <td>I1</td>\n",
       "      <td>National</td>\n",
       "      <td>P1</td>\n",
       "    </tr>\n",
       "  </tbody>\n",
       "</table>\n",
       "</div>"
      ],
      "text/plain": [
       "         YEAR LocationAbbr   LocationDesc DataSource  \\\n",
       "7246191  2017           XX  United States      YRBSS   \n",
       "\n",
       "                                       Topic  \\\n",
       "7246191  Unintentional Injuries and Violence   \n",
       "\n",
       "                                      Subtopic    ShortQuestionText  \\\n",
       "7246191  Behaviors that Contribute to Violence  Electronic bullying   \n",
       "\n",
       "               Greater_Risk_Question  \\\n",
       "7246191  Were electronically bullied   \n",
       "\n",
       "                                               Description Data_Value_Symbol  \\\n",
       "7246191  counting being bullied through texting, Instag...                 %   \n",
       "\n",
       "        Data_Value_Type  Greater_Risk_Data_Value  \\\n",
       "7246191      Percentage                  10.0449   \n",
       "\n",
       "         Greater_Risk_Data_Value_Footnote_Symbol  \\\n",
       "7246191                                      NaN   \n",
       "\n",
       "         Greater_Risk_Data_Value_Footnote  Greater_Risk_Low_Confidence_Limit  \\\n",
       "7246191                               NaN                             7.3943   \n",
       "\n",
       "         Greater_Risk_High_Confidence_Limit             Lesser_Risk_Question  \\\n",
       "7246191                             13.5071  Were not electronically bullied   \n",
       "\n",
       "         Lesser_Risk_Data_Value  Lesser_Risk_Data_Value_Footnote_Symbol  \\\n",
       "7246191                 89.9551                                     NaN   \n",
       "\n",
       "         Lesser_Risk_Data_Value_Footnote  Lesser_Risk_Low_Confidence_Limit  \\\n",
       "7246191                              NaN                           86.4929   \n",
       "\n",
       "         Lesser_Risk_High_Confidence_Limit  Sample_Size    Sex   Race  Grade  \\\n",
       "7246191                            92.6057          642  Total  Asian  Total   \n",
       "\n",
       "        SexualIdentity SexOfSexualContacts GeoLocation TopicId SubTopicID  \\\n",
       "7246191          Total               Total         NaN     C01        C10   \n",
       "\n",
       "        QuestionCode  LocationId StratID1 StratID2 StratID3 StratID4 StratID5  \\\n",
       "7246191          H24        59.0       S1      R11       G1       XX       I1   \n",
       "\n",
       "        StratificationType StratID6  \n",
       "7246191           National       P1  "
      ]
     },
     "execution_count": 62,
     "metadata": {},
     "output_type": "execute_result"
    }
   ],
   "source": [
    "web[(web['Grade'] == 'Total') & (web['Sex'] == 'Total') &\n",
    "    (web['Race'] == 'Asian') & (web['SexualIdentity'] == 'Total') & (web['SexOfSexualContacts'] == 'Total')]"
   ]
  },
  {
   "cell_type": "code",
   "execution_count": 70,
   "metadata": {},
   "outputs": [
    {
     "data": {
      "text/plain": [
       "28882"
      ]
     },
     "execution_count": 70,
     "metadata": {},
     "output_type": "execute_result"
    }
   ],
   "source": [
    "total = 0\n",
    "for val in race:\n",
    "    web_total = web[(web['Grade'] == 'Total') & (web['Sex'] == 'Total') &\n",
    "        (web['Race'] == val) & (web['SexualIdentity'] == 'Total') & (web['SexOfSexualContacts'] == 'Total')]\n",
    "    total += web_total['Sample_Size'].iloc[0]\n",
    "total"
   ]
  },
  {
   "cell_type": "code",
   "execution_count": 71,
   "metadata": {},
   "outputs": [
    {
     "data": {
      "text/html": [
       "<div>\n",
       "<style scoped>\n",
       "    .dataframe tbody tr th:only-of-type {\n",
       "        vertical-align: middle;\n",
       "    }\n",
       "\n",
       "    .dataframe tbody tr th {\n",
       "        vertical-align: top;\n",
       "    }\n",
       "\n",
       "    .dataframe thead th {\n",
       "        text-align: right;\n",
       "    }\n",
       "</style>\n",
       "<table border=\"1\" class=\"dataframe\">\n",
       "  <thead>\n",
       "    <tr style=\"text-align: right;\">\n",
       "      <th></th>\n",
       "      <th>YEAR</th>\n",
       "      <th>LocationAbbr</th>\n",
       "      <th>LocationDesc</th>\n",
       "      <th>DataSource</th>\n",
       "      <th>Topic</th>\n",
       "      <th>Subtopic</th>\n",
       "      <th>ShortQuestionText</th>\n",
       "      <th>Greater_Risk_Question</th>\n",
       "      <th>Description</th>\n",
       "      <th>Data_Value_Symbol</th>\n",
       "      <th>Data_Value_Type</th>\n",
       "      <th>Greater_Risk_Data_Value</th>\n",
       "      <th>Greater_Risk_Data_Value_Footnote_Symbol</th>\n",
       "      <th>Greater_Risk_Data_Value_Footnote</th>\n",
       "      <th>Greater_Risk_Low_Confidence_Limit</th>\n",
       "      <th>Greater_Risk_High_Confidence_Limit</th>\n",
       "      <th>Lesser_Risk_Question</th>\n",
       "      <th>Lesser_Risk_Data_Value</th>\n",
       "      <th>Lesser_Risk_Data_Value_Footnote_Symbol</th>\n",
       "      <th>Lesser_Risk_Data_Value_Footnote</th>\n",
       "      <th>Lesser_Risk_Low_Confidence_Limit</th>\n",
       "      <th>Lesser_Risk_High_Confidence_Limit</th>\n",
       "      <th>Sample_Size</th>\n",
       "      <th>Sex</th>\n",
       "      <th>Race</th>\n",
       "      <th>Grade</th>\n",
       "      <th>SexualIdentity</th>\n",
       "      <th>SexOfSexualContacts</th>\n",
       "      <th>GeoLocation</th>\n",
       "      <th>TopicId</th>\n",
       "      <th>SubTopicID</th>\n",
       "      <th>QuestionCode</th>\n",
       "      <th>LocationId</th>\n",
       "      <th>StratID1</th>\n",
       "      <th>StratID2</th>\n",
       "      <th>StratID3</th>\n",
       "      <th>StratID4</th>\n",
       "      <th>StratID5</th>\n",
       "      <th>StratificationType</th>\n",
       "      <th>StratID6</th>\n",
       "    </tr>\n",
       "  </thead>\n",
       "  <tbody>\n",
       "    <tr>\n",
       "      <th>267372</th>\n",
       "      <td>2017</td>\n",
       "      <td>XX</td>\n",
       "      <td>United States</td>\n",
       "      <td>YRBSS</td>\n",
       "      <td>Unintentional Injuries and Violence</td>\n",
       "      <td>Behaviors that Contribute to Violence</td>\n",
       "      <td>Electronic bullying</td>\n",
       "      <td>Were electronically bullied</td>\n",
       "      <td>counting being bullied through texting, Instag...</td>\n",
       "      <td>%</td>\n",
       "      <td>Percentage</td>\n",
       "      <td>14.9369</td>\n",
       "      <td>NaN</td>\n",
       "      <td>NaN</td>\n",
       "      <td>13.7456</td>\n",
       "      <td>16.2121</td>\n",
       "      <td>Were not electronically bullied</td>\n",
       "      <td>85.0631</td>\n",
       "      <td>NaN</td>\n",
       "      <td>NaN</td>\n",
       "      <td>83.7879</td>\n",
       "      <td>86.2544</td>\n",
       "      <td>14595</td>\n",
       "      <td>Total</td>\n",
       "      <td>Total</td>\n",
       "      <td>Total</td>\n",
       "      <td>Total</td>\n",
       "      <td>Total</td>\n",
       "      <td>NaN</td>\n",
       "      <td>C01</td>\n",
       "      <td>C10</td>\n",
       "      <td>H24</td>\n",
       "      <td>59.0</td>\n",
       "      <td>S1</td>\n",
       "      <td>R1</td>\n",
       "      <td>G1</td>\n",
       "      <td>XX</td>\n",
       "      <td>I1</td>\n",
       "      <td>National</td>\n",
       "      <td>P1</td>\n",
       "    </tr>\n",
       "  </tbody>\n",
       "</table>\n",
       "</div>"
      ],
      "text/plain": [
       "        YEAR LocationAbbr   LocationDesc DataSource  \\\n",
       "267372  2017           XX  United States      YRBSS   \n",
       "\n",
       "                                      Topic  \\\n",
       "267372  Unintentional Injuries and Violence   \n",
       "\n",
       "                                     Subtopic    ShortQuestionText  \\\n",
       "267372  Behaviors that Contribute to Violence  Electronic bullying   \n",
       "\n",
       "              Greater_Risk_Question  \\\n",
       "267372  Were electronically bullied   \n",
       "\n",
       "                                              Description Data_Value_Symbol  \\\n",
       "267372  counting being bullied through texting, Instag...                 %   \n",
       "\n",
       "       Data_Value_Type  Greater_Risk_Data_Value  \\\n",
       "267372      Percentage                  14.9369   \n",
       "\n",
       "        Greater_Risk_Data_Value_Footnote_Symbol  \\\n",
       "267372                                      NaN   \n",
       "\n",
       "        Greater_Risk_Data_Value_Footnote  Greater_Risk_Low_Confidence_Limit  \\\n",
       "267372                               NaN                            13.7456   \n",
       "\n",
       "        Greater_Risk_High_Confidence_Limit             Lesser_Risk_Question  \\\n",
       "267372                             16.2121  Were not electronically bullied   \n",
       "\n",
       "        Lesser_Risk_Data_Value  Lesser_Risk_Data_Value_Footnote_Symbol  \\\n",
       "267372                 85.0631                                     NaN   \n",
       "\n",
       "        Lesser_Risk_Data_Value_Footnote  Lesser_Risk_Low_Confidence_Limit  \\\n",
       "267372                              NaN                           83.7879   \n",
       "\n",
       "        Lesser_Risk_High_Confidence_Limit  Sample_Size    Sex   Race  Grade  \\\n",
       "267372                            86.2544        14595  Total  Total  Total   \n",
       "\n",
       "       SexualIdentity SexOfSexualContacts GeoLocation TopicId SubTopicID  \\\n",
       "267372          Total               Total         NaN     C01        C10   \n",
       "\n",
       "       QuestionCode  LocationId StratID1 StratID2 StratID3 StratID4 StratID5  \\\n",
       "267372          H24        59.0       S1       R1       G1       XX       I1   \n",
       "\n",
       "       StratificationType StratID6  \n",
       "267372           National       P1  "
      ]
     },
     "execution_count": 71,
     "metadata": {},
     "output_type": "execute_result"
    }
   ],
   "source": [
    "web[(web['Grade'] == 'Total') & (web['Sex'] == 'Total') &\n",
    "        (web['Race'] == 'Total') & (web['SexualIdentity'] == 'Total') & (web['SexOfSexualContacts'] == 'Total')]"
   ]
  },
  {
   "cell_type": "code",
   "execution_count": null,
   "metadata": {},
   "outputs": [],
   "source": []
  }
 ],
 "metadata": {
  "kernelspec": {
   "display_name": "Python 3",
   "language": "python",
   "name": "python3"
  },
  "language_info": {
   "codemirror_mode": {
    "name": "ipython",
    "version": 3
   },
   "file_extension": ".py",
   "mimetype": "text/x-python",
   "name": "python",
   "nbconvert_exporter": "python",
   "pygments_lexer": "ipython3",
   "version": "3.8.5"
  }
 },
 "nbformat": 4,
 "nbformat_minor": 4
}
