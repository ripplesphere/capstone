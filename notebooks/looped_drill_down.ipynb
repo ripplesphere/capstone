{
 "cells": [
  {
   "cell_type": "markdown",
   "metadata": {},
   "source": [
    "### This notebook is to test the bottom most loop of the algorithm."
   ]
  },
  {
   "cell_type": "code",
   "execution_count": 32,
   "metadata": {},
   "outputs": [],
   "source": [
    "import pandas as pd\n",
    "from collections import defaultdict\n",
    "\n",
    "pd.set_option('display.max_columns', None)"
   ]
  },
  {
   "cell_type": "code",
   "execution_count": 33,
   "metadata": {},
   "outputs": [],
   "source": [
    "# Values for this drill down\n",
    "csv = '../data/yrbss_2017.csv'\n",
    "location = 'XX'\n",
    "topic = 'Unintentional Injuries and Violence'\n",
    "subtopic = 'Behaviors that Contribute to Violence'\n",
    "risk_question = 'Were electronically bullied'\n",
    "# These are the elements of the three groups which will be looped over for each question.\n",
    "Gender = ['Male', 'Female']\n",
    "Race = ['Asian', 'Black or African American', 'Hispanic or Latino', 'White', \n",
    "        'Multiple Race', 'American Indian or Alaska Native', 'Native Hawaiian or Other Pacific Islander']\n",
    "Sexuality = ['Gay or lesbian', 'Gay, lesbian, or bisexual', 'Bisexual', 'Not sure', \n",
    "        'Heterosexual (straight)']"
   ]
  },
  {
   "cell_type": "code",
   "execution_count": 34,
   "metadata": {},
   "outputs": [],
   "source": [
    "# Create a dataframe which holds just the rows needed to be looped over in this notebook\n",
    "yrbss = pd.read_csv(csv)\n",
    "us = yrbss[yrbss['LocationAbbr'] == location]\n",
    "uiv = us[us['Topic'] == topic]\n",
    "bcv = uiv[uiv['Subtopic'] == subtopic]\n",
    "question = bcv[bcv['Greater_Risk_Question'] == risk_question]"
   ]
  },
  {
   "cell_type": "code",
   "execution_count": 35,
   "metadata": {},
   "outputs": [
    {
     "name": "stdout",
     "output_type": "stream",
     "text": [
      "q_total 14.9369 13.7456 16.2121\n"
     ]
    }
   ],
   "source": [
    "# The overall results for this question, all significance tests will go against these values\n",
    "q_total = question[(question['Grade'] == 'Total') & (question['Sex'] == 'Total') &\n",
    "    (question['Race'] == 'Total') & (question['SexualIdentity'] == 'Total') & \n",
    "    (question['SexOfSexualContacts'] == 'Total')]\n",
    "q_val = q_total['Greater_Risk_Data_Value'].iloc[0]\n",
    "q_low = q_total['Greater_Risk_Low_Confidence_Limit'].iloc[0]\n",
    "q_high = q_total['Greater_Risk_High_Confidence_Limit'].iloc[0]\n",
    "print('q_total', q_val, q_low, q_high)"
   ]
  },
  {
   "cell_type": "code",
   "execution_count": 36,
   "metadata": {},
   "outputs": [],
   "source": [
    "# lists for collecting the values as the question is looped over\n",
    "group = []\n",
    "data_val = []\n",
    "low_val = []\n",
    "high_val = []\n",
    "significance = []"
   ]
  },
  {
   "cell_type": "code",
   "execution_count": 37,
   "metadata": {},
   "outputs": [
    {
     "name": "stdout",
     "output_type": "stream",
     "text": [
      "q_total 14.9369 13.7456 16.2121\n"
     ]
    }
   ],
   "source": [
    "print('q_total', q_val, q_low, q_high)\n",
    "for gender in Gender:\n",
    "    web_total = question[(question['Grade'] == 'Total') & (question['Sex'] == gender) &\n",
    "        (question['Race'] == 'Total') & (question['SexualIdentity'] == 'Total') & \n",
    "        (question['SexOfSexualContacts'] == 'Total')]\n",
    "    g_val = web_total['Greater_Risk_Data_Value'].iloc[0]\n",
    "    g_low = web_total['Greater_Risk_Low_Confidence_Limit'].iloc[0]\n",
    "    g_high = web_total['Greater_Risk_High_Confidence_Limit'].iloc[0]\n",
    "    if g_val < q_low and q_val > g_high:\n",
    "        group.append(gender)\n",
    "        data_val.append(g_val)\n",
    "        low_val.append(g_low)\n",
    "        high_val.append(g_high)\n",
    "        significance.append('less')\n",
    "    elif g_val > q_high and q_val < g_low:\n",
    "        group.append(gender)\n",
    "        data_val.append(g_val)\n",
    "        low_val.append(g_low)\n",
    "        high_val.append(g_high)\n",
    "        significance.append('more')\n",
    "    else:\n",
    "        print(gender, 'no sig', g_val, g_low, g_high)"
   ]
  },
  {
   "cell_type": "code",
   "execution_count": 38,
   "metadata": {},
   "outputs": [
    {
     "name": "stdout",
     "output_type": "stream",
     "text": [
      "q_total 14.9369 13.7456 16.2121\n",
      "Multiple Race no sig 16.0412 12.0546 21.031\n",
      "American Indian or Alaska Native no sig 13.1927 7.2066 22.9227\n",
      "Native Hawaiian or Other Pacific Islander no sig 15.0359 10.2643 21.4943\n"
     ]
    }
   ],
   "source": [
    "print('q_total', q_val, q_low, q_high)\n",
    "for race in Race:\n",
    "    web_total = question[(question['Grade'] == 'Total') & (question['Sex'] == 'Total') &\n",
    "        (question['Race'] == race) & (question['SexualIdentity'] == 'Total') & \n",
    "        (question['SexOfSexualContacts'] == 'Total')]\n",
    "    g_val = web_total['Greater_Risk_Data_Value'].iloc[0]\n",
    "    g_low = web_total['Greater_Risk_Low_Confidence_Limit'].iloc[0]\n",
    "    g_high = web_total['Greater_Risk_High_Confidence_Limit'].iloc[0]\n",
    "    if g_val < q_low and q_val > g_high:\n",
    "        group.append(race)\n",
    "        data_val.append(g_val)\n",
    "        low_val.append(g_low)\n",
    "        high_val.append(g_high)\n",
    "        significance.append('less')\n",
    "    elif g_val > q_high and q_val < g_low:\n",
    "        group.append(race)\n",
    "        data_val.append(g_val)\n",
    "        low_val.append(g_low)\n",
    "        high_val.append(g_high)\n",
    "        significance.append('more')\n",
    "    else:\n",
    "        print(race, 'no sig', g_val, g_low, g_high)"
   ]
  },
  {
   "cell_type": "code",
   "execution_count": 39,
   "metadata": {},
   "outputs": [
    {
     "name": "stdout",
     "output_type": "stream",
     "text": [
      "q_total 14.9369 13.7456 16.2121\n",
      "Gay or lesbian no sig 18.3849 14.4083 23.162\n"
     ]
    }
   ],
   "source": [
    "print('q_total', q_val, q_low, q_high)\n",
    "for sexuality in Sexuality:\n",
    "    web_total = question[(question['Grade'] == 'Total') & (question['Sex'] == 'Total') &\n",
    "        (question['Race'] == 'Total') & (question['SexualIdentity'] == sexuality) & \n",
    "        (question['SexOfSexualContacts'] == 'Total')]\n",
    "    g_val = web_total['Greater_Risk_Data_Value'].iloc[0]\n",
    "    g_low = web_total['Greater_Risk_Low_Confidence_Limit'].iloc[0]\n",
    "    g_high = web_total['Greater_Risk_High_Confidence_Limit'].iloc[0] \n",
    "    if g_val < q_low and q_val > g_high:\n",
    "        group.append(sexuality)\n",
    "        data_val.append(g_val)\n",
    "        low_val.append(g_low)\n",
    "        high_val.append(g_high)\n",
    "        significance.append('less')\n",
    "    elif g_val > q_high and q_val < g_low:\n",
    "        group.append(sexuality)\n",
    "        data_val.append(g_val)\n",
    "        low_val.append(g_low)\n",
    "        high_val.append(g_high)\n",
    "        significance.append('more')\n",
    "    else:\n",
    "        print(sexuality, 'no sig', g_val,  g_low, g_high)"
   ]
  },
  {
   "cell_type": "code",
   "execution_count": 40,
   "metadata": {},
   "outputs": [],
   "source": [
    "results_df = pd.DataFrame.from_dict({'topic': topic,'group': group, \n",
    "                    'data_val': data_val, 'low_val': low_val,\n",
    "                    'high_val': high_val, 'significance': significance})"
   ]
  },
  {
   "cell_type": "code",
   "execution_count": 41,
   "metadata": {},
   "outputs": [
    {
     "data": {
      "text/html": [
       "<div>\n",
       "<style scoped>\n",
       "    .dataframe tbody tr th:only-of-type {\n",
       "        vertical-align: middle;\n",
       "    }\n",
       "\n",
       "    .dataframe tbody tr th {\n",
       "        vertical-align: top;\n",
       "    }\n",
       "\n",
       "    .dataframe thead th {\n",
       "        text-align: right;\n",
       "    }\n",
       "</style>\n",
       "<table border=\"1\" class=\"dataframe\">\n",
       "  <thead>\n",
       "    <tr style=\"text-align: right;\">\n",
       "      <th></th>\n",
       "      <th>topic</th>\n",
       "      <th>group</th>\n",
       "      <th>data_val</th>\n",
       "      <th>low_val</th>\n",
       "      <th>high_val</th>\n",
       "      <th>significance</th>\n",
       "    </tr>\n",
       "  </thead>\n",
       "  <tbody>\n",
       "    <tr>\n",
       "      <th>0</th>\n",
       "      <td>Unintentional Injuries and Violence</td>\n",
       "      <td>Male</td>\n",
       "      <td>9.9111</td>\n",
       "      <td>9.1891</td>\n",
       "      <td>10.6831</td>\n",
       "      <td>less</td>\n",
       "    </tr>\n",
       "    <tr>\n",
       "      <th>1</th>\n",
       "      <td>Unintentional Injuries and Violence</td>\n",
       "      <td>Female</td>\n",
       "      <td>19.7383</td>\n",
       "      <td>17.4162</td>\n",
       "      <td>22.2864</td>\n",
       "      <td>more</td>\n",
       "    </tr>\n",
       "    <tr>\n",
       "      <th>2</th>\n",
       "      <td>Unintentional Injuries and Violence</td>\n",
       "      <td>Asian</td>\n",
       "      <td>10.0449</td>\n",
       "      <td>7.3943</td>\n",
       "      <td>13.5071</td>\n",
       "      <td>less</td>\n",
       "    </tr>\n",
       "    <tr>\n",
       "      <th>3</th>\n",
       "      <td>Unintentional Injuries and Violence</td>\n",
       "      <td>Black or African American</td>\n",
       "      <td>10.8866</td>\n",
       "      <td>8.9959</td>\n",
       "      <td>13.1173</td>\n",
       "      <td>less</td>\n",
       "    </tr>\n",
       "    <tr>\n",
       "      <th>4</th>\n",
       "      <td>Unintentional Injuries and Violence</td>\n",
       "      <td>Hispanic or Latino</td>\n",
       "      <td>12.2830</td>\n",
       "      <td>11.5039</td>\n",
       "      <td>13.1070</td>\n",
       "      <td>less</td>\n",
       "    </tr>\n",
       "    <tr>\n",
       "      <th>5</th>\n",
       "      <td>Unintentional Injuries and Violence</td>\n",
       "      <td>White</td>\n",
       "      <td>17.3498</td>\n",
       "      <td>15.6353</td>\n",
       "      <td>19.2095</td>\n",
       "      <td>more</td>\n",
       "    </tr>\n",
       "    <tr>\n",
       "      <th>6</th>\n",
       "      <td>Unintentional Injuries and Violence</td>\n",
       "      <td>Gay, lesbian, or bisexual</td>\n",
       "      <td>27.0578</td>\n",
       "      <td>23.1161</td>\n",
       "      <td>31.3971</td>\n",
       "      <td>more</td>\n",
       "    </tr>\n",
       "    <tr>\n",
       "      <th>7</th>\n",
       "      <td>Unintentional Injuries and Violence</td>\n",
       "      <td>Bisexual</td>\n",
       "      <td>29.6005</td>\n",
       "      <td>24.7944</td>\n",
       "      <td>34.9058</td>\n",
       "      <td>more</td>\n",
       "    </tr>\n",
       "    <tr>\n",
       "      <th>8</th>\n",
       "      <td>Unintentional Injuries and Violence</td>\n",
       "      <td>Not sure</td>\n",
       "      <td>21.9765</td>\n",
       "      <td>16.9313</td>\n",
       "      <td>28.0181</td>\n",
       "      <td>more</td>\n",
       "    </tr>\n",
       "    <tr>\n",
       "      <th>9</th>\n",
       "      <td>Unintentional Injuries and Violence</td>\n",
       "      <td>Heterosexual (straight)</td>\n",
       "      <td>13.3442</td>\n",
       "      <td>12.3753</td>\n",
       "      <td>14.3765</td>\n",
       "      <td>less</td>\n",
       "    </tr>\n",
       "  </tbody>\n",
       "</table>\n",
       "</div>"
      ],
      "text/plain": [
       "                                 topic                      group  data_val  \\\n",
       "0  Unintentional Injuries and Violence                       Male    9.9111   \n",
       "1  Unintentional Injuries and Violence                     Female   19.7383   \n",
       "2  Unintentional Injuries and Violence                      Asian   10.0449   \n",
       "3  Unintentional Injuries and Violence  Black or African American   10.8866   \n",
       "4  Unintentional Injuries and Violence         Hispanic or Latino   12.2830   \n",
       "5  Unintentional Injuries and Violence                      White   17.3498   \n",
       "6  Unintentional Injuries and Violence  Gay, lesbian, or bisexual   27.0578   \n",
       "7  Unintentional Injuries and Violence                   Bisexual   29.6005   \n",
       "8  Unintentional Injuries and Violence                   Not sure   21.9765   \n",
       "9  Unintentional Injuries and Violence    Heterosexual (straight)   13.3442   \n",
       "\n",
       "   low_val  high_val significance  \n",
       "0   9.1891   10.6831         less  \n",
       "1  17.4162   22.2864         more  \n",
       "2   7.3943   13.5071         less  \n",
       "3   8.9959   13.1173         less  \n",
       "4  11.5039   13.1070         less  \n",
       "5  15.6353   19.2095         more  \n",
       "6  23.1161   31.3971         more  \n",
       "7  24.7944   34.9058         more  \n",
       "8  16.9313   28.0181         more  \n",
       "9  12.3753   14.3765         less  "
      ]
     },
     "execution_count": 41,
     "metadata": {},
     "output_type": "execute_result"
    }
   ],
   "source": [
    "results_df"
   ]
  },
  {
   "cell_type": "code",
   "execution_count": null,
   "metadata": {},
   "outputs": [],
   "source": []
  }
 ],
 "metadata": {
  "kernelspec": {
   "display_name": "Python 3",
   "language": "python",
   "name": "python3"
  },
  "language_info": {
   "codemirror_mode": {
    "name": "ipython",
    "version": 3
   },
   "file_extension": ".py",
   "mimetype": "text/x-python",
   "name": "python",
   "nbconvert_exporter": "python",
   "pygments_lexer": "ipython3",
   "version": "3.8.5"
  }
 },
 "nbformat": 4,
 "nbformat_minor": 4
}
