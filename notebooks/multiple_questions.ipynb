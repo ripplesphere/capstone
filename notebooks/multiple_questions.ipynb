{
 "cells": [
  {
   "cell_type": "markdown",
   "metadata": {},
   "source": [
    "### This notebook is to expand the one question notebook."
   ]
  },
  {
   "cell_type": "code",
   "execution_count": 37,
   "metadata": {},
   "outputs": [],
   "source": [
    "import pandas as pd\n",
    "import matplotlib.pyplot as plt\n",
    "import seaborn as sns; sns.set_theme()\n",
    "\n",
    "pd.set_option('display.max_columns', None)"
   ]
  },
  {
   "cell_type": "code",
   "execution_count": 2,
   "metadata": {},
   "outputs": [],
   "source": [
    "# Values for this drill down\n",
    "csv = '../data/yrbss_2017.csv'\n",
    "location = 'XX'"
   ]
  },
  {
   "cell_type": "code",
   "execution_count": 3,
   "metadata": {},
   "outputs": [],
   "source": [
    "# Create a dataframe which holds just the rows needed to be looped over in this notebook\n",
    "yrbss = pd.read_csv(csv)\n",
    "us = yrbss[yrbss['LocationAbbr'] == location]"
   ]
  },
  {
   "cell_type": "code",
   "execution_count": 32,
   "metadata": {},
   "outputs": [],
   "source": [
    "def question_loop(topic, subtopic, risk_question, question_df):\n",
    "    global question\n",
    "\n",
    "    Gender = ['Male', 'Female']\n",
    "    Race = ['Asian', 'Black or African American', 'Hispanic or Latino', 'White', \n",
    "        'Multiple Race', 'American Indian or Alaska Native', 'Native Hawaiian or Other Pacific Islander']\n",
    "    Sexuality = ['Gay or lesbian', 'Bisexual', 'Not sure', 'Heterosexual (straight)']\n",
    "    \n",
    "    group = []\n",
    "    data_val = []\n",
    "    low_val = []\n",
    "    high_val = []\n",
    "    significance = []\n",
    "\n",
    "    # The overall results for this question, all significance tests will go against these values\n",
    "    q_total = question_df[(question_df['Grade'] == 'Total') & (question_df['Sex'] == 'Total') &\n",
    "        (question_df['Race'] == 'Total') & (question_df['SexualIdentity'] == 'Total') & \n",
    "        (question_df['SexOfSexualContacts'] == 'Total')]\n",
    "    q_val = q_total['Greater_Risk_Data_Value'].iloc[0]\n",
    "    q_low = q_total['Greater_Risk_Low_Confidence_Limit'].iloc[0]\n",
    "    q_high = q_total['Greater_Risk_High_Confidence_Limit'].iloc[0]\n",
    "    # print('q_total', q_val, q_low, q_high)\n",
    "    \n",
    "    for gender in Gender:\n",
    "        web_total = question_df[(question_df['Grade'] == 'Total') & (question_df['Sex'] == gender) &\n",
    "            (question_df['Race'] == 'Total') & (question_df['SexualIdentity'] == 'Total') & \n",
    "            (question_df['SexOfSexualContacts'] == 'Total')]\n",
    "        g_val = web_total['Greater_Risk_Data_Value'].iloc[0]\n",
    "        g_low = web_total['Greater_Risk_Low_Confidence_Limit'].iloc[0]\n",
    "        g_high = web_total['Greater_Risk_High_Confidence_Limit'].iloc[0]\n",
    "        if g_val < q_low and q_val > g_high:\n",
    "            group.append(gender)\n",
    "            data_val.append(g_val)\n",
    "            low_val.append(g_low)\n",
    "            high_val.append(g_high)\n",
    "            significance.append('less')\n",
    "        elif g_val > q_high and q_val < g_low:\n",
    "            group.append(gender)\n",
    "            data_val.append(g_val)\n",
    "            low_val.append(g_low)\n",
    "            high_val.append(g_high)\n",
    "            significance.append('more')\n",
    "    for race in Race:\n",
    "        web_total = question_df[(question_df['Grade'] == 'Total') & (question_df['Sex'] == 'Total') &\n",
    "            (question_df['Race'] == race) & (question_df['SexualIdentity'] == 'Total') & \n",
    "            (question_df['SexOfSexualContacts'] == 'Total')]\n",
    "        g_val = web_total['Greater_Risk_Data_Value'].iloc[0]\n",
    "        g_low = web_total['Greater_Risk_Low_Confidence_Limit'].iloc[0]\n",
    "        g_high = web_total['Greater_Risk_High_Confidence_Limit'].iloc[0]\n",
    "        if g_val < q_low and q_val > g_high:\n",
    "            group.append(race)\n",
    "            data_val.append(g_val)\n",
    "            low_val.append(g_low)\n",
    "            high_val.append(g_high)\n",
    "            significance.append('less')\n",
    "        elif g_val > q_high and q_val < g_low:\n",
    "            group.append(race)\n",
    "            data_val.append(g_val)\n",
    "            low_val.append(g_low)\n",
    "            high_val.append(g_high)\n",
    "            significance.append('more')\n",
    "    for sexuality in Sexuality:\n",
    "        web_total = question_df[(question_df['Grade'] == 'Total') & (question_df['Sex'] == 'Total') &\n",
    "            (question_df['Race'] == 'Total') & (question_df['SexualIdentity'] == sexuality) & \n",
    "            (question_df['SexOfSexualContacts'] == 'Total')]\n",
    "        g_val = web_total['Greater_Risk_Data_Value'].iloc[0]\n",
    "        g_low = web_total['Greater_Risk_Low_Confidence_Limit'].iloc[0]\n",
    "        g_high = web_total['Greater_Risk_High_Confidence_Limit'].iloc[0] \n",
    "        if g_val < q_low and q_val > g_high:\n",
    "            group.append(sexuality)\n",
    "            data_val.append(g_val)\n",
    "            low_val.append(g_low)\n",
    "            high_val.append(g_high)\n",
    "            significance.append('less')\n",
    "        elif g_val > q_high and q_val < g_low:\n",
    "            group.append(sexuality)\n",
    "            data_val.append(g_val)\n",
    "            low_val.append(g_low)\n",
    "            high_val.append(g_high)\n",
    "            significance.append('more')\n",
    "            \n",
    "    question_results_df = pd.DataFrame.from_dict({'topic': topic,'group': group, \n",
    "            'data_val': data_val, 'low_val': low_val,\n",
    "            'high_val': high_val, 'significance': significance})\n",
    "    return question_results_df\n",
    "    "
   ]
  },
  {
   "cell_type": "code",
   "execution_count": 33,
   "metadata": {},
   "outputs": [
    {
     "data": {
      "text/plain": [
       "(582, 6)"
      ]
     },
     "execution_count": 33,
     "metadata": {},
     "output_type": "execute_result"
    }
   ],
   "source": [
    "question_results_df = pd.DataFrame()\n",
    "for topic in us['Topic'].value_counts().items():\n",
    "    #print('topic', topic)\n",
    "    topic_df = us[us['Topic'] == topic[0]]\n",
    "    for subtopic in topic_df['Subtopic'].value_counts().items():\n",
    "        #print('subtopic', subtopic)\n",
    "        subtopic_df = topic_df[topic_df['Subtopic'] == subtopic[0]]\n",
    "        for risk_question in subtopic_df['Greater_Risk_Question'].value_counts().items():\n",
    "            #print('risk_question', risk_question)\n",
    "            risk_question_df = subtopic_df[subtopic_df['Greater_Risk_Question'] == risk_question[0]]\n",
    "            results_df = question_loop(topic[0], subtopic[0], risk_question[0], risk_question_df)\n",
    "            question_results_df = question_results_df.append(results_df)\n",
    "question_results_df.shape"
   ]
  },
  {
   "cell_type": "code",
   "execution_count": 34,
   "metadata": {},
   "outputs": [
    {
     "data": {
      "text/plain": [
       "(582, 6)"
      ]
     },
     "execution_count": 34,
     "metadata": {},
     "output_type": "execute_result"
    }
   ],
   "source": [
    "question_results_df.shape"
   ]
  },
  {
   "cell_type": "code",
   "execution_count": 35,
   "metadata": {},
   "outputs": [
    {
     "data": {
      "text/html": [
       "<div>\n",
       "<style scoped>\n",
       "    .dataframe tbody tr th:only-of-type {\n",
       "        vertical-align: middle;\n",
       "    }\n",
       "\n",
       "    .dataframe tbody tr th {\n",
       "        vertical-align: top;\n",
       "    }\n",
       "\n",
       "    .dataframe thead th {\n",
       "        text-align: right;\n",
       "    }\n",
       "</style>\n",
       "<table border=\"1\" class=\"dataframe\">\n",
       "  <thead>\n",
       "    <tr style=\"text-align: right;\">\n",
       "      <th></th>\n",
       "      <th>topic</th>\n",
       "      <th>group</th>\n",
       "      <th>data_val</th>\n",
       "      <th>low_val</th>\n",
       "      <th>high_val</th>\n",
       "      <th>significance</th>\n",
       "    </tr>\n",
       "  </thead>\n",
       "  <tbody>\n",
       "    <tr>\n",
       "      <th>0</th>\n",
       "      <td>Dietary Behaviors</td>\n",
       "      <td>Male</td>\n",
       "      <td>4.9809</td>\n",
       "      <td>4.2071</td>\n",
       "      <td>5.8883</td>\n",
       "      <td>more</td>\n",
       "    </tr>\n",
       "    <tr>\n",
       "      <th>1</th>\n",
       "      <td>Dietary Behaviors</td>\n",
       "      <td>Female</td>\n",
       "      <td>2.6595</td>\n",
       "      <td>1.9490</td>\n",
       "      <td>3.6196</td>\n",
       "      <td>less</td>\n",
       "    </tr>\n",
       "    <tr>\n",
       "      <th>2</th>\n",
       "      <td>Dietary Behaviors</td>\n",
       "      <td>Black or African American</td>\n",
       "      <td>6.7107</td>\n",
       "      <td>5.5784</td>\n",
       "      <td>8.0533</td>\n",
       "      <td>more</td>\n",
       "    </tr>\n",
       "    <tr>\n",
       "      <th>3</th>\n",
       "      <td>Dietary Behaviors</td>\n",
       "      <td>Not sure</td>\n",
       "      <td>6.4889</td>\n",
       "      <td>4.2498</td>\n",
       "      <td>9.7871</td>\n",
       "      <td>more</td>\n",
       "    </tr>\n",
       "    <tr>\n",
       "      <th>0</th>\n",
       "      <td>Dietary Behaviors</td>\n",
       "      <td>Male</td>\n",
       "      <td>16.8622</td>\n",
       "      <td>15.3162</td>\n",
       "      <td>18.5302</td>\n",
       "      <td>more</td>\n",
       "    </tr>\n",
       "  </tbody>\n",
       "</table>\n",
       "</div>"
      ],
      "text/plain": [
       "               topic                      group  data_val  low_val  high_val  \\\n",
       "0  Dietary Behaviors                       Male    4.9809   4.2071    5.8883   \n",
       "1  Dietary Behaviors                     Female    2.6595   1.9490    3.6196   \n",
       "2  Dietary Behaviors  Black or African American    6.7107   5.5784    8.0533   \n",
       "3  Dietary Behaviors                   Not sure    6.4889   4.2498    9.7871   \n",
       "0  Dietary Behaviors                       Male   16.8622  15.3162   18.5302   \n",
       "\n",
       "  significance  \n",
       "0         more  \n",
       "1         less  \n",
       "2         more  \n",
       "3         more  \n",
       "0         more  "
      ]
     },
     "execution_count": 35,
     "metadata": {},
     "output_type": "execute_result"
    }
   ],
   "source": [
    "question_results_df.head()"
   ]
  },
  {
   "cell_type": "code",
   "execution_count": 44,
   "metadata": {},
   "outputs": [
    {
     "name": "stdout",
     "output_type": "stream",
     "text": [
      "Unintentional Injuries and Violence\n"
     ]
    },
    {
     "data": {
      "text/html": [
       "<div>\n",
       "<style scoped>\n",
       "    .dataframe tbody tr th:only-of-type {\n",
       "        vertical-align: middle;\n",
       "    }\n",
       "\n",
       "    .dataframe tbody tr th {\n",
       "        vertical-align: top;\n",
       "    }\n",
       "\n",
       "    .dataframe thead th {\n",
       "        text-align: right;\n",
       "    }\n",
       "</style>\n",
       "<table border=\"1\" class=\"dataframe\">\n",
       "  <thead>\n",
       "    <tr style=\"text-align: right;\">\n",
       "      <th></th>\n",
       "      <th>Male</th>\n",
       "      <th>Female</th>\n",
       "      <th>Asian</th>\n",
       "      <th>Black or African American</th>\n",
       "      <th>Hispanic or Latino</th>\n",
       "      <th>White</th>\n",
       "      <th>Multiple Race</th>\n",
       "      <th>American Indian or Alaska Native</th>\n",
       "      <th>Native Hawaiian or Other Pacific Islander</th>\n",
       "      <th>Gay or lesbian</th>\n",
       "      <th>Bisexual</th>\n",
       "      <th>Not sure</th>\n",
       "      <th>Heterosexual (straight)</th>\n",
       "    </tr>\n",
       "  </thead>\n",
       "  <tbody>\n",
       "    <tr>\n",
       "      <th>more</th>\n",
       "      <td>8</td>\n",
       "      <td>10</td>\n",
       "      <td>0</td>\n",
       "      <td>7</td>\n",
       "      <td>5</td>\n",
       "      <td>3</td>\n",
       "      <td>8</td>\n",
       "      <td>2</td>\n",
       "      <td>0</td>\n",
       "      <td>10</td>\n",
       "      <td>15</td>\n",
       "      <td>15</td>\n",
       "      <td>0</td>\n",
       "    </tr>\n",
       "    <tr>\n",
       "      <th>less</th>\n",
       "      <td>11</td>\n",
       "      <td>7</td>\n",
       "      <td>9</td>\n",
       "      <td>7</td>\n",
       "      <td>3</td>\n",
       "      <td>6</td>\n",
       "      <td>0</td>\n",
       "      <td>0</td>\n",
       "      <td>0</td>\n",
       "      <td>0</td>\n",
       "      <td>0</td>\n",
       "      <td>0</td>\n",
       "      <td>11</td>\n",
       "    </tr>\n",
       "  </tbody>\n",
       "</table>\n",
       "</div>"
      ],
      "text/plain": [
       "      Male  Female  Asian  Black or African American  Hispanic or Latino  \\\n",
       "more     8      10      0                          7                   5   \n",
       "less    11       7      9                          7                   3   \n",
       "\n",
       "      White  Multiple Race  American Indian or Alaska Native  \\\n",
       "more      3              8                                 2   \n",
       "less      6              0                                 0   \n",
       "\n",
       "      Native Hawaiian or Other Pacific Islander  Gay or lesbian  Bisexual  \\\n",
       "more                                          0              10        15   \n",
       "less                                          0               0         0   \n",
       "\n",
       "      Not sure  Heterosexual (straight)  \n",
       "more        15                        0  \n",
       "less         0                       11  "
      ]
     },
     "execution_count": 44,
     "metadata": {},
     "output_type": "execute_result"
    }
   ],
   "source": [
    "Group = ['Male', 'Female', 'Asian', 'Black or African American', 'Hispanic or Latino', 'White', \n",
    "        'Multiple Race', 'American Indian or Alaska Native', 'Native Hawaiian or Other Pacific Islander',\n",
    "         'Gay or lesbian', 'Bisexual', 'Not sure', 'Heterosexual (straight)']\n",
    "uiv_df = question_results_df[question_results_df['topic'] == 'Unintentional Injuries and Violence']\n",
    "count_df = pd.DataFrame(0, index=['more','less'], columns=Group)\n",
    "\n",
    "for index, row in uiv_df.iterrows():\n",
    "    count_df.at[row['significance'],row['group']] = count_df.at[row['significance'],row['group']] + 1\n",
    "print('Unintentional Injuries and Violence')\n",
    "count_df"
   ]
  },
  {
   "cell_type": "code",
   "execution_count": 46,
   "metadata": {
    "scrolled": true
   },
   "outputs": [
    {
     "data": {
      "text/html": [
       "<div>\n",
       "<style scoped>\n",
       "    .dataframe tbody tr th:only-of-type {\n",
       "        vertical-align: middle;\n",
       "    }\n",
       "\n",
       "    .dataframe tbody tr th {\n",
       "        vertical-align: top;\n",
       "    }\n",
       "\n",
       "    .dataframe thead th {\n",
       "        text-align: right;\n",
       "    }\n",
       "</style>\n",
       "<table border=\"1\" class=\"dataframe\">\n",
       "  <thead>\n",
       "    <tr style=\"text-align: right;\">\n",
       "      <th></th>\n",
       "      <th>Male</th>\n",
       "      <th>Female</th>\n",
       "      <th>Asian</th>\n",
       "      <th>Black or African American</th>\n",
       "      <th>Hispanic or Latino</th>\n",
       "      <th>White</th>\n",
       "      <th>Multiple Race</th>\n",
       "      <th>American Indian or Alaska Native</th>\n",
       "      <th>Native Hawaiian or Other Pacific Islander</th>\n",
       "      <th>Gay or lesbian</th>\n",
       "      <th>Bisexual</th>\n",
       "      <th>Not sure</th>\n",
       "      <th>Heterosexual (straight)</th>\n",
       "    </tr>\n",
       "  </thead>\n",
       "  <tbody>\n",
       "    <tr>\n",
       "      <th>more</th>\n",
       "      <td>50</td>\n",
       "      <td>23</td>\n",
       "      <td>4</td>\n",
       "      <td>39</td>\n",
       "      <td>26</td>\n",
       "      <td>10</td>\n",
       "      <td>13</td>\n",
       "      <td>23</td>\n",
       "      <td>1</td>\n",
       "      <td>42</td>\n",
       "      <td>69</td>\n",
       "      <td>40</td>\n",
       "      <td>1</td>\n",
       "    </tr>\n",
       "    <tr>\n",
       "      <th>less</th>\n",
       "      <td>26</td>\n",
       "      <td>47</td>\n",
       "      <td>57</td>\n",
       "      <td>30</td>\n",
       "      <td>19</td>\n",
       "      <td>22</td>\n",
       "      <td>1</td>\n",
       "      <td>1</td>\n",
       "      <td>3</td>\n",
       "      <td>1</td>\n",
       "      <td>7</td>\n",
       "      <td>7</td>\n",
       "      <td>20</td>\n",
       "    </tr>\n",
       "  </tbody>\n",
       "</table>\n",
       "</div>"
      ],
      "text/plain": [
       "      Male  Female  Asian  Black or African American  Hispanic or Latino  \\\n",
       "more    50      23      4                         39                  26   \n",
       "less    26      47     57                         30                  19   \n",
       "\n",
       "      White  Multiple Race  American Indian or Alaska Native  \\\n",
       "more     10             13                                23   \n",
       "less     22              1                                 1   \n",
       "\n",
       "      Native Hawaiian or Other Pacific Islander  Gay or lesbian  Bisexual  \\\n",
       "more                                          1              42        69   \n",
       "less                                          3               1         7   \n",
       "\n",
       "      Not sure  Heterosexual (straight)  \n",
       "more        40                        1  \n",
       "less         7                       20  "
      ]
     },
     "execution_count": 46,
     "metadata": {},
     "output_type": "execute_result"
    }
   ],
   "source": [
    "Group = ['Male', 'Female', 'Asian', 'Black or African American', 'Hispanic or Latino', 'White', \n",
    "        'Multiple Race', 'American Indian or Alaska Native', 'Native Hawaiian or Other Pacific Islander',\n",
    "         'Gay or lesbian', 'Bisexual', 'Not sure', 'Heterosexual (straight)']\n",
    "count_df = pd.DataFrame(0, index=['more','less'], columns=Group)\n",
    "\n",
    "\n",
    "for index, row in question_results_df.iterrows():\n",
    "    count_df.at[row['significance'],row['group']] = count_df.at[row['significance'],row['group']] + 1\n",
    "count_df"
   ]
  },
  {
   "cell_type": "code",
   "execution_count": 50,
   "metadata": {},
   "outputs": [
    {
     "data": {
      "text/plain": [
       "(array([0, 1]), [Text(0, 0, 'more'), Text(1, 0, 'less')])"
      ]
     },
     "execution_count": 50,
     "metadata": {},
     "output_type": "execute_result"
    },
    {
     "data": {
      "image/png": "[encoded data removed]",
      "text/plain": [
       "<Figure size 432x288 with 1 Axes>"
      ]
     },
     "metadata": {},
     "output_type": "display_data"
    }
   ],
   "source": [
    "count_df.plot.bar()\n",
    "plt.legend(bbox_to_anchor=(1.0, 1.0))\n",
    "plt.xticks(rotation='horizontal')"
   ]
  },
  {
   "cell_type": "code",
   "execution_count": 36,
   "metadata": {},
   "outputs": [
    {
     "name": "stdout",
     "output_type": "stream",
     "text": [
      "Bisexual\n",
      "more    69\n",
      "less     7\n",
      "Name: significance, dtype: int64\n",
      "\n",
      "Male\n",
      "more    50\n",
      "less    26\n",
      "Name: significance, dtype: int64\n",
      "\n",
      "Female\n",
      "less    47\n",
      "more    23\n",
      "Name: significance, dtype: int64\n",
      "\n",
      "Black or African American\n",
      "more    39\n",
      "less    30\n",
      "Name: significance, dtype: int64\n",
      "\n",
      "Asian\n",
      "less    57\n",
      "more     4\n",
      "Name: significance, dtype: int64\n",
      "\n",
      "Not sure\n",
      "more    40\n",
      "less     7\n",
      "Name: significance, dtype: int64\n",
      "\n",
      "Hispanic or Latino\n",
      "more    26\n",
      "less    19\n",
      "Name: significance, dtype: int64\n",
      "\n",
      "Gay or lesbian\n",
      "more    42\n",
      "less     1\n",
      "Name: significance, dtype: int64\n",
      "\n",
      "White\n",
      "less    22\n",
      "more    10\n",
      "Name: significance, dtype: int64\n",
      "\n",
      "American Indian or Alaska Native\n",
      "more    23\n",
      "less     1\n",
      "Name: significance, dtype: int64\n",
      "\n",
      "Heterosexual (straight)\n",
      "less    20\n",
      "more     1\n",
      "Name: significance, dtype: int64\n",
      "\n",
      "Multiple Race\n",
      "more    13\n",
      "less     1\n",
      "Name: significance, dtype: int64\n",
      "\n",
      "Native Hawaiian or Other Pacific Islander\n",
      "less    3\n",
      "more    1\n",
      "Name: significance, dtype: int64\n",
      "\n"
     ]
    }
   ],
   "source": [
    "for group in question_results_df['group'].value_counts().items():\n",
    "    print(group[0])\n",
    "    print(question_results_df[question_results_df['group'] == group[0]]['significance'].value_counts())\n",
    "    print()"
   ]
  },
  {
   "cell_type": "code",
   "execution_count": 23,
   "metadata": {},
   "outputs": [
    {
     "data": {
      "text/plain": [
       "more    413\n",
       "less    249\n",
       "Name: significance, dtype: int64"
      ]
     },
     "execution_count": 23,
     "metadata": {},
     "output_type": "execute_result"
    }
   ],
   "source": [
    "question_results_df['significance'].value_counts()"
   ]
  },
  {
   "cell_type": "code",
   "execution_count": 24,
   "metadata": {},
   "outputs": [
    {
     "data": {
      "text/plain": [
       "Unintentional Injuries and Violence        153\n",
       "Alcohol and Other Drug Use                 127\n",
       "Tobacco Use                                122\n",
       "Dietary Behaviors                           81\n",
       "Sexual Behaviors                            69\n",
       "Physical Activity                           52\n",
       "Other Health Topics                         30\n",
       "Obesity, Overweight, and Weight Control     28\n",
       "Name: topic, dtype: int64"
      ]
     },
     "execution_count": 24,
     "metadata": {},
     "output_type": "execute_result"
    }
   ],
   "source": [
    "question_results_df['topic'].value_counts()"
   ]
  },
  {
   "cell_type": "code",
   "execution_count": 38,
   "metadata": {},
   "outputs": [
    {
     "ename": "ValueError",
     "evalue": "could not convert string to float: 'Dietary Behaviors'",
     "output_type": "error",
     "traceback": [
      "\u001b[0;31m---------------------------------------------------------------------------\u001b[0m",
      "\u001b[0;31mValueError\u001b[0m                                Traceback (most recent call last)",
      "\u001b[0;32m<ipython-input-38-09dbe04863ea>\u001b[0m in \u001b[0;36m<module>\u001b[0;34m\u001b[0m\n\u001b[0;32m----> 1\u001b[0;31m \u001b[0max\u001b[0m \u001b[0;34m=\u001b[0m \u001b[0msns\u001b[0m\u001b[0;34m.\u001b[0m\u001b[0mheatmap\u001b[0m\u001b[0;34m(\u001b[0m\u001b[0mquestion_results_df\u001b[0m\u001b[0;34m,\u001b[0m \u001b[0mcmap\u001b[0m\u001b[0;34m=\u001b[0m\u001b[0;34m\"PiYG\"\u001b[0m\u001b[0;34m)\u001b[0m\u001b[0;34m\u001b[0m\u001b[0;34m\u001b[0m\u001b[0m\n\u001b[0m",
      "\u001b[0;32m~/anaconda3/lib/python3.8/site-packages/seaborn/_decorators.py\u001b[0m in \u001b[0;36minner_f\u001b[0;34m(*args, **kwargs)\u001b[0m\n\u001b[1;32m     44\u001b[0m             )\n\u001b[1;32m     45\u001b[0m         \u001b[0mkwargs\u001b[0m\u001b[0;34m.\u001b[0m\u001b[0mupdate\u001b[0m\u001b[0;34m(\u001b[0m\u001b[0;34m{\u001b[0m\u001b[0mk\u001b[0m\u001b[0;34m:\u001b[0m \u001b[0marg\u001b[0m \u001b[0;32mfor\u001b[0m \u001b[0mk\u001b[0m\u001b[0;34m,\u001b[0m \u001b[0marg\u001b[0m \u001b[0;32min\u001b[0m \u001b[0mzip\u001b[0m\u001b[0;34m(\u001b[0m\u001b[0msig\u001b[0m\u001b[0;34m.\u001b[0m\u001b[0mparameters\u001b[0m\u001b[0;34m,\u001b[0m \u001b[0margs\u001b[0m\u001b[0;34m)\u001b[0m\u001b[0;34m}\u001b[0m\u001b[0;34m)\u001b[0m\u001b[0;34m\u001b[0m\u001b[0;34m\u001b[0m\u001b[0m\n\u001b[0;32m---> 46\u001b[0;31m         \u001b[0;32mreturn\u001b[0m \u001b[0mf\u001b[0m\u001b[0;34m(\u001b[0m\u001b[0;34m**\u001b[0m\u001b[0mkwargs\u001b[0m\u001b[0;34m)\u001b[0m\u001b[0;34m\u001b[0m\u001b[0;34m\u001b[0m\u001b[0m\n\u001b[0m\u001b[1;32m     47\u001b[0m     \u001b[0;32mreturn\u001b[0m \u001b[0minner_f\u001b[0m\u001b[0;34m\u001b[0m\u001b[0;34m\u001b[0m\u001b[0m\n\u001b[1;32m     48\u001b[0m \u001b[0;34m\u001b[0m\u001b[0m\n",
      "\u001b[0;32m~/anaconda3/lib/python3.8/site-packages/seaborn/matrix.py\u001b[0m in \u001b[0;36mheatmap\u001b[0;34m(data, vmin, vmax, cmap, center, robust, annot, fmt, annot_kws, linewidths, linecolor, cbar, cbar_kws, cbar_ax, square, xticklabels, yticklabels, mask, ax, **kwargs)\u001b[0m\n\u001b[1;32m    543\u001b[0m     \"\"\"\n\u001b[1;32m    544\u001b[0m     \u001b[0;31m# Initialize the plotter object\u001b[0m\u001b[0;34m\u001b[0m\u001b[0;34m\u001b[0m\u001b[0;34m\u001b[0m\u001b[0m\n\u001b[0;32m--> 545\u001b[0;31m     plotter = _HeatMapper(data, vmin, vmax, cmap, center, robust, annot, fmt,\n\u001b[0m\u001b[1;32m    546\u001b[0m                           \u001b[0mannot_kws\u001b[0m\u001b[0;34m,\u001b[0m \u001b[0mcbar\u001b[0m\u001b[0;34m,\u001b[0m \u001b[0mcbar_kws\u001b[0m\u001b[0;34m,\u001b[0m \u001b[0mxticklabels\u001b[0m\u001b[0;34m,\u001b[0m\u001b[0;34m\u001b[0m\u001b[0;34m\u001b[0m\u001b[0m\n\u001b[1;32m    547\u001b[0m                           yticklabels, mask)\n",
      "\u001b[0;32m~/anaconda3/lib/python3.8/site-packages/seaborn/matrix.py\u001b[0m in \u001b[0;36m__init__\u001b[0;34m(self, data, vmin, vmax, cmap, center, robust, annot, fmt, annot_kws, cbar, cbar_kws, xticklabels, yticklabels, mask)\u001b[0m\n\u001b[1;32m    163\u001b[0m \u001b[0;34m\u001b[0m\u001b[0m\n\u001b[1;32m    164\u001b[0m         \u001b[0;31m# Determine good default values for the colormapping\u001b[0m\u001b[0;34m\u001b[0m\u001b[0;34m\u001b[0m\u001b[0;34m\u001b[0m\u001b[0m\n\u001b[0;32m--> 165\u001b[0;31m         self._determine_cmap_params(plot_data, vmin, vmax,\n\u001b[0m\u001b[1;32m    166\u001b[0m                                     cmap, center, robust)\n\u001b[1;32m    167\u001b[0m \u001b[0;34m\u001b[0m\u001b[0m\n",
      "\u001b[0;32m~/anaconda3/lib/python3.8/site-packages/seaborn/matrix.py\u001b[0m in \u001b[0;36m_determine_cmap_params\u001b[0;34m(self, plot_data, vmin, vmax, cmap, center, robust)\u001b[0m\n\u001b[1;32m    197\u001b[0m \u001b[0;34m\u001b[0m\u001b[0m\n\u001b[1;32m    198\u001b[0m         \u001b[0;31m# plot_data is a np.ma.array instance\u001b[0m\u001b[0;34m\u001b[0m\u001b[0;34m\u001b[0m\u001b[0;34m\u001b[0m\u001b[0m\n\u001b[0;32m--> 199\u001b[0;31m         \u001b[0mcalc_data\u001b[0m \u001b[0;34m=\u001b[0m \u001b[0mplot_data\u001b[0m\u001b[0;34m.\u001b[0m\u001b[0mastype\u001b[0m\u001b[0;34m(\u001b[0m\u001b[0mfloat\u001b[0m\u001b[0;34m)\u001b[0m\u001b[0;34m.\u001b[0m\u001b[0mfilled\u001b[0m\u001b[0;34m(\u001b[0m\u001b[0mnp\u001b[0m\u001b[0;34m.\u001b[0m\u001b[0mnan\u001b[0m\u001b[0;34m)\u001b[0m\u001b[0;34m\u001b[0m\u001b[0;34m\u001b[0m\u001b[0m\n\u001b[0m\u001b[1;32m    200\u001b[0m         \u001b[0;32mif\u001b[0m \u001b[0mvmin\u001b[0m \u001b[0;32mis\u001b[0m \u001b[0;32mNone\u001b[0m\u001b[0;34m:\u001b[0m\u001b[0;34m\u001b[0m\u001b[0;34m\u001b[0m\u001b[0m\n\u001b[1;32m    201\u001b[0m             \u001b[0;32mif\u001b[0m \u001b[0mrobust\u001b[0m\u001b[0;34m:\u001b[0m\u001b[0;34m\u001b[0m\u001b[0;34m\u001b[0m\u001b[0m\n",
      "\u001b[0;31mValueError\u001b[0m: could not convert string to float: 'Dietary Behaviors'"
     ]
    }
   ],
   "source": [
    "# for this to work need to create a new dataframe with counts of significance or something like that\n",
    "ax = sns.heatmap(question_results_df, cmap=\"PiYG\")"
   ]
  },
  {
   "cell_type": "code",
   "execution_count": null,
   "metadata": {},
   "outputs": [],
   "source": []
  }
 ],
 "metadata": {
  "kernelspec": {
   "display_name": "Python 3",
   "language": "python",
   "name": "python3"
  },
  "language_info": {
   "codemirror_mode": {
    "name": "ipython",
    "version": 3
   },
   "file_extension": ".py",
   "mimetype": "text/x-python",
   "name": "python",
   "nbconvert_exporter": "python",
   "pygments_lexer": "ipython3",
   "version": "3.8.5"
  }
 },
 "nbformat": 4,
 "nbformat_minor": 4
}
