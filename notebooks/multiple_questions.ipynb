{
 "cells": [
  {
   "cell_type": "markdown",
   "metadata": {},
   "source": [
    "### This notebook is to expand the one question notebook."
   ]
  },
  {
   "cell_type": "code",
   "execution_count": 1,
   "metadata": {},
   "outputs": [],
   "source": [
    "import pandas as pd\n",
    "from collections import defaultdict\n",
    "\n",
    "pd.set_option('display.max_columns', None)"
   ]
  },
  {
   "cell_type": "code",
   "execution_count": 2,
   "metadata": {},
   "outputs": [],
   "source": [
    "# Values for this drill down\n",
    "csv = '../data/yrbss_2017.csv'\n",
    "location = 'XX'"
   ]
  },
  {
   "cell_type": "code",
   "execution_count": 3,
   "metadata": {},
   "outputs": [],
   "source": [
    "# Create a dataframe which holds just the rows needed to be looped over in this notebook\n",
    "yrbss = pd.read_csv(csv)\n",
    "us = yrbss[yrbss['LocationAbbr'] == location]\n",
    "uiv = us[us['Topic'] == topic]\n",
    "bcv = uiv[uiv['Subtopic'] == subtopic]\n",
    "question = bcv[bcv['Greater_Risk_Question'] == risk_question]"
   ]
  },
  {
   "cell_type": "code",
   "execution_count": 4,
   "metadata": {},
   "outputs": [],
   "source": [
    "def question_loop(topic, subtopic, risk_question, question_df):\n",
    "    global question\n",
    "\n",
    "    Gender = ['Male', 'Female']\n",
    "    Race = ['Asian', 'Black or African American', 'Hispanic or Latino', 'White', \n",
    "        'Multiple Race', 'American Indian or Alaska Native', 'Native Hawaiian or Other Pacific Islander']\n",
    "    Sexuality = ['Gay or lesbian', 'Gay, lesbian, or bisexual', 'Bisexual', 'Not sure', \n",
    "        'Heterosexual (straight)']\n",
    "    \n",
    "    group = []\n",
    "    data_val = []\n",
    "    low_val = []\n",
    "    high_val = []\n",
    "    significance = []\n",
    "\n",
    "    # The overall results for this question, all significance tests will go against these values\n",
    "    q_total = question[(question['Grade'] == 'Total') & (question['Sex'] == 'Total') &\n",
    "        (question['Race'] == 'Total') & (question['SexualIdentity'] == 'Total') & \n",
    "        (question['SexOfSexualContacts'] == 'Total')]\n",
    "    q_val = q_total['Greater_Risk_Data_Value'].iloc[0]\n",
    "    q_low = q_total['Greater_Risk_Low_Confidence_Limit'].iloc[0]\n",
    "    q_high = q_total['Greater_Risk_High_Confidence_Limit'].iloc[0]\n",
    "    print('q_total', q_val, q_low, q_high)\n",
    "    \n",
    "    for gender in Gender:\n",
    "        web_total = question[(question['Grade'] == 'Total') & (question['Sex'] == gender) &\n",
    "            (question['Race'] == 'Total') & (question['SexualIdentity'] == 'Total') & \n",
    "            (question['SexOfSexualContacts'] == 'Total')]\n",
    "        g_val = web_total['Greater_Risk_Data_Value'].iloc[0]\n",
    "        g_low = web_total['Greater_Risk_Low_Confidence_Limit'].iloc[0]\n",
    "        g_high = web_total['Greater_Risk_High_Confidence_Limit'].iloc[0]\n",
    "        if g_val < q_low and q_val > g_high:\n",
    "            group.append(gender)\n",
    "            data_val.append(g_val)\n",
    "            low_val.append(g_low)\n",
    "            high_val.append(g_high)\n",
    "            significance.append('less')\n",
    "        elif g_val > q_high and q_val < g_low:\n",
    "            group.append(gender)\n",
    "            data_val.append(g_val)\n",
    "            low_val.append(g_low)\n",
    "            high_val.append(g_high)\n",
    "            significance.append('more')\n",
    "    for race in Race:\n",
    "        web_total = question[(question['Grade'] == 'Total') & (question['Sex'] == 'Total') &\n",
    "            (question['Race'] == race) & (question['SexualIdentity'] == 'Total') & \n",
    "            (question['SexOfSexualContacts'] == 'Total')]\n",
    "        g_val = web_total['Greater_Risk_Data_Value'].iloc[0]\n",
    "        g_low = web_total['Greater_Risk_Low_Confidence_Limit'].iloc[0]\n",
    "        g_high = web_total['Greater_Risk_High_Confidence_Limit'].iloc[0]\n",
    "        if g_val < q_low and q_val > g_high:\n",
    "            group.append(race)\n",
    "            data_val.append(g_val)\n",
    "            low_val.append(g_low)\n",
    "            high_val.append(g_high)\n",
    "            significance.append('less')\n",
    "        elif g_val > q_high and q_val < g_low:\n",
    "            group.append(race)\n",
    "            data_val.append(g_val)\n",
    "            low_val.append(g_low)\n",
    "            high_val.append(g_high)\n",
    "            significance.append('more')\n",
    "    for sexuality in Sexuality:\n",
    "        web_total = question[(question['Grade'] == 'Total') & (question['Sex'] == 'Total') &\n",
    "            (question['Race'] == 'Total') & (question['SexualIdentity'] == sexuality) & \n",
    "            (question['SexOfSexualContacts'] == 'Total')]\n",
    "        g_val = web_total['Greater_Risk_Data_Value'].iloc[0]\n",
    "        g_low = web_total['Greater_Risk_Low_Confidence_Limit'].iloc[0]\n",
    "        g_high = web_total['Greater_Risk_High_Confidence_Limit'].iloc[0] \n",
    "        if g_val < q_low and q_val > g_high:\n",
    "            group.append(sexuality)\n",
    "            data_val.append(g_val)\n",
    "            low_val.append(g_low)\n",
    "            high_val.append(g_high)\n",
    "            significance.append('less')\n",
    "        elif g_val > q_high and q_val < g_low:\n",
    "            group.append(sexuality)\n",
    "            data_val.append(g_val)\n",
    "            low_val.append(g_low)\n",
    "            high_val.append(g_high)\n",
    "            significance.append('more')\n",
    "            \n",
    "    question_results_df = pd.DataFrame.from_dict({'topic': topic,'group': group, \n",
    "            'data_val': data_val, 'low_val': low_val,\n",
    "            'high_val': high_val, 'significance': significance})\n",
    "    "
   ]
  },
  {
   "cell_type": "code",
   "execution_count": 23,
   "metadata": {},
   "outputs": [
    {
     "name": "stdout",
     "output_type": "stream",
     "text": [
      "111\n"
     ]
    }
   ],
   "source": [
    "for topic in us['Topic'].value_counts().items():\n",
    "    #print('topic', topic)\n",
    "    topic_df = us[us['Topic'] == topic[0]]\n",
    "    for subtopic in topic_df['Subtopic'].value_counts().items():\n",
    "        #print('subtopic', subtopic)\n",
    "        subtopic_df = topic_df[topic_df['Subtopic'] == subtopic[0]]\n",
    "        for risk_question in subtopic_df['Greater_Risk_Question'].value_counts().items():\n",
    "            #print('risk_question', risk_question)\n",
    "            risk_question_df = subtopic_df[subtopic_df['Greater_Risk_Question'] == risk_question[0]]\n",
    "            results_df = question_loop(topic[0], subtopic[0], risk_question[0], risk_question_df)\n",
    "            pd.concat(results_df, question_results_df)\n"
   ]
  },
  {
   "cell_type": "markdown",
   "metadata": {},
   "source": [
    "## Note: last cell needs to call the function and get the variables worked out"
   ]
  },
  {
   "cell_type": "code",
   "execution_count": null,
   "metadata": {},
   "outputs": [],
   "source": []
  }
 ],
 "metadata": {
  "kernelspec": {
   "display_name": "Python 3",
   "language": "python",
   "name": "python3"
  },
  "language_info": {
   "codemirror_mode": {
    "name": "ipython",
    "version": 3
   },
   "file_extension": ".py",
   "mimetype": "text/x-python",
   "name": "python",
   "nbconvert_exporter": "python",
   "pygments_lexer": "ipython3",
   "version": "3.8.5"
  }
 },
 "nbformat": 4,
 "nbformat_minor": 4
}
