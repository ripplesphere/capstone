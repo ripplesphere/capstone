{
 "cells": [
  {
   "cell_type": "code",
   "execution_count": 1,
   "metadata": {},
   "outputs": [],
   "source": [
    "import pandas as pd\n",
    "\n",
    "pd.set_option('display.max_columns', None)"
   ]
  },
  {
   "cell_type": "code",
   "execution_count": 2,
   "metadata": {},
   "outputs": [],
   "source": [
    "yrbss = pd.read_csv('../data/yrbss_2017.csv')"
   ]
  },
  {
   "cell_type": "code",
   "execution_count": 3,
   "metadata": {},
   "outputs": [],
   "source": [
    "us = yrbss[yrbss['LocationAbbr'] == 'XX']"
   ]
  },
  {
   "cell_type": "code",
   "execution_count": 4,
   "metadata": {},
   "outputs": [],
   "source": [
    "uiv = us[us['Topic'] == 'Unintentional Injuries and Violence']"
   ]
  },
  {
   "cell_type": "code",
   "execution_count": 5,
   "metadata": {},
   "outputs": [],
   "source": [
    "bcv = uiv[uiv['Subtopic'] == 'Behaviors that Contribute to Violence']"
   ]
  },
  {
   "cell_type": "code",
   "execution_count": 6,
   "metadata": {},
   "outputs": [],
   "source": [
    "web = bcv[bcv['Greater_Risk_Question'] == 'Were electronically bullied']"
   ]
  },
  {
   "cell_type": "code",
   "execution_count": 7,
   "metadata": {},
   "outputs": [],
   "source": [
    "twelth = web[web['Grade'] == '12th']"
   ]
  },
  {
   "cell_type": "code",
   "execution_count": 8,
   "metadata": {},
   "outputs": [],
   "source": [
    "male = twelth[twelth['Sex'] == 'Male']"
   ]
  },
  {
   "cell_type": "code",
   "execution_count": 13,
   "metadata": {},
   "outputs": [],
   "source": [
    "male_total = male[(male['Race'] == 'Total') & (male['SexualIdentity'] == 'Total') & (male['SexOfSexualContacts'] == 'Total')]"
   ]
  },
  {
   "cell_type": "code",
   "execution_count": 14,
   "metadata": {},
   "outputs": [
    {
     "data": {
      "text/html": [
       "<div>\n",
       "<style scoped>\n",
       "    .dataframe tbody tr th:only-of-type {\n",
       "        vertical-align: middle;\n",
       "    }\n",
       "\n",
       "    .dataframe tbody tr th {\n",
       "        vertical-align: top;\n",
       "    }\n",
       "\n",
       "    .dataframe thead th {\n",
       "        text-align: right;\n",
       "    }\n",
       "</style>\n",
       "<table border=\"1\" class=\"dataframe\">\n",
       "  <thead>\n",
       "    <tr style=\"text-align: right;\">\n",
       "      <th></th>\n",
       "      <th>YEAR</th>\n",
       "      <th>LocationAbbr</th>\n",
       "      <th>LocationDesc</th>\n",
       "      <th>DataSource</th>\n",
       "      <th>Topic</th>\n",
       "      <th>Subtopic</th>\n",
       "      <th>ShortQuestionText</th>\n",
       "      <th>Greater_Risk_Question</th>\n",
       "      <th>Description</th>\n",
       "      <th>Data_Value_Symbol</th>\n",
       "      <th>Data_Value_Type</th>\n",
       "      <th>Greater_Risk_Data_Value</th>\n",
       "      <th>Greater_Risk_Data_Value_Footnote_Symbol</th>\n",
       "      <th>Greater_Risk_Data_Value_Footnote</th>\n",
       "      <th>Greater_Risk_Low_Confidence_Limit</th>\n",
       "      <th>Greater_Risk_High_Confidence_Limit</th>\n",
       "      <th>Lesser_Risk_Question</th>\n",
       "      <th>Lesser_Risk_Data_Value</th>\n",
       "      <th>Lesser_Risk_Data_Value_Footnote_Symbol</th>\n",
       "      <th>Lesser_Risk_Data_Value_Footnote</th>\n",
       "      <th>Lesser_Risk_Low_Confidence_Limit</th>\n",
       "      <th>Lesser_Risk_High_Confidence_Limit</th>\n",
       "      <th>Sample_Size</th>\n",
       "      <th>Sex</th>\n",
       "      <th>Race</th>\n",
       "      <th>Grade</th>\n",
       "      <th>SexualIdentity</th>\n",
       "      <th>SexOfSexualContacts</th>\n",
       "      <th>GeoLocation</th>\n",
       "      <th>TopicId</th>\n",
       "      <th>SubTopicID</th>\n",
       "      <th>QuestionCode</th>\n",
       "      <th>LocationId</th>\n",
       "      <th>StratID1</th>\n",
       "      <th>StratID2</th>\n",
       "      <th>StratID3</th>\n",
       "      <th>StratID4</th>\n",
       "      <th>StratID5</th>\n",
       "      <th>StratificationType</th>\n",
       "      <th>StratID6</th>\n",
       "    </tr>\n",
       "  </thead>\n",
       "  <tbody>\n",
       "    <tr>\n",
       "      <th>6380787</th>\n",
       "      <td>2017</td>\n",
       "      <td>XX</td>\n",
       "      <td>United States</td>\n",
       "      <td>YRBSS</td>\n",
       "      <td>Unintentional Injuries and Violence</td>\n",
       "      <td>Behaviors that Contribute to Violence</td>\n",
       "      <td>Electronic bullying</td>\n",
       "      <td>Were electronically bullied</td>\n",
       "      <td>counting being bullied through texting, Instag...</td>\n",
       "      <td>%</td>\n",
       "      <td>Percentage</td>\n",
       "      <td>10.4485</td>\n",
       "      <td>NaN</td>\n",
       "      <td>NaN</td>\n",
       "      <td>8.2936</td>\n",
       "      <td>13.0835</td>\n",
       "      <td>Were not electronically bullied</td>\n",
       "      <td>89.5515</td>\n",
       "      <td>NaN</td>\n",
       "      <td>NaN</td>\n",
       "      <td>86.9165</td>\n",
       "      <td>91.7064</td>\n",
       "      <td>1599</td>\n",
       "      <td>Male</td>\n",
       "      <td>Total</td>\n",
       "      <td>12th</td>\n",
       "      <td>Total</td>\n",
       "      <td>Total</td>\n",
       "      <td>NaN</td>\n",
       "      <td>C01</td>\n",
       "      <td>C10</td>\n",
       "      <td>H24</td>\n",
       "      <td>59.0</td>\n",
       "      <td>S8</td>\n",
       "      <td>R1</td>\n",
       "      <td>G5</td>\n",
       "      <td>XX</td>\n",
       "      <td>I1</td>\n",
       "      <td>National</td>\n",
       "      <td>P1</td>\n",
       "    </tr>\n",
       "  </tbody>\n",
       "</table>\n",
       "</div>"
      ],
      "text/plain": [
       "         YEAR LocationAbbr   LocationDesc DataSource  \\\n",
       "6380787  2017           XX  United States      YRBSS   \n",
       "\n",
       "                                       Topic  \\\n",
       "6380787  Unintentional Injuries and Violence   \n",
       "\n",
       "                                      Subtopic    ShortQuestionText  \\\n",
       "6380787  Behaviors that Contribute to Violence  Electronic bullying   \n",
       "\n",
       "               Greater_Risk_Question  \\\n",
       "6380787  Were electronically bullied   \n",
       "\n",
       "                                               Description Data_Value_Symbol  \\\n",
       "6380787  counting being bullied through texting, Instag...                 %   \n",
       "\n",
       "        Data_Value_Type  Greater_Risk_Data_Value  \\\n",
       "6380787      Percentage                  10.4485   \n",
       "\n",
       "         Greater_Risk_Data_Value_Footnote_Symbol  \\\n",
       "6380787                                      NaN   \n",
       "\n",
       "         Greater_Risk_Data_Value_Footnote  Greater_Risk_Low_Confidence_Limit  \\\n",
       "6380787                               NaN                             8.2936   \n",
       "\n",
       "         Greater_Risk_High_Confidence_Limit             Lesser_Risk_Question  \\\n",
       "6380787                             13.0835  Were not electronically bullied   \n",
       "\n",
       "         Lesser_Risk_Data_Value  Lesser_Risk_Data_Value_Footnote_Symbol  \\\n",
       "6380787                 89.5515                                     NaN   \n",
       "\n",
       "         Lesser_Risk_Data_Value_Footnote  Lesser_Risk_Low_Confidence_Limit  \\\n",
       "6380787                              NaN                           86.9165   \n",
       "\n",
       "         Lesser_Risk_High_Confidence_Limit  Sample_Size   Sex   Race Grade  \\\n",
       "6380787                            91.7064         1599  Male  Total  12th   \n",
       "\n",
       "        SexualIdentity SexOfSexualContacts GeoLocation TopicId SubTopicID  \\\n",
       "6380787          Total               Total         NaN     C01        C10   \n",
       "\n",
       "        QuestionCode  LocationId StratID1 StratID2 StratID3 StratID4 StratID5  \\\n",
       "6380787          H24        59.0       S8       R1       G5       XX       I1   \n",
       "\n",
       "        StratificationType StratID6  \n",
       "6380787           National       P1  "
      ]
     },
     "execution_count": 14,
     "metadata": {},
     "output_type": "execute_result"
    }
   ],
   "source": [
    "male_total"
   ]
  },
  {
   "cell_type": "code",
   "execution_count": 15,
   "metadata": {},
   "outputs": [],
   "source": [
    "dict = {'a': ['b','c','d']}"
   ]
  },
  {
   "cell_type": "code",
   "execution_count": 16,
   "metadata": {},
   "outputs": [
    {
     "data": {
      "text/plain": [
       "{'a': ['b', 'c', 'd']}"
      ]
     },
     "execution_count": 16,
     "metadata": {},
     "output_type": "execute_result"
    }
   ],
   "source": [
    "dict"
   ]
  },
  {
   "cell_type": "code",
   "execution_count": 17,
   "metadata": {},
   "outputs": [
    {
     "data": {
      "text/plain": [
       "['b', 'c', 'd']"
      ]
     },
     "execution_count": 17,
     "metadata": {},
     "output_type": "execute_result"
    }
   ],
   "source": [
    "dict['a']"
   ]
  },
  {
   "cell_type": "code",
   "execution_count": null,
   "metadata": {},
   "outputs": [],
   "source": []
  }
 ],
 "metadata": {
  "kernelspec": {
   "display_name": "Python 3",
   "language": "python",
   "name": "python3"
  },
  "language_info": {
   "codemirror_mode": {
    "name": "ipython",
    "version": 3
   },
   "file_extension": ".py",
   "mimetype": "text/x-python",
   "name": "python",
   "nbconvert_exporter": "python",
   "pygments_lexer": "ipython3",
   "version": "3.8.5"
  }
 },
 "nbformat": 4,
 "nbformat_minor": 4
}
