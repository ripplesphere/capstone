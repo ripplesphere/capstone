{
 "cells": [
  {
   "cell_type": "code",
   "execution_count": 3,
   "metadata": {},
   "outputs": [],
   "source": [
    "import pandas as pd\n",
    "import matplotlib.pyplot as plt"
   ]
  },
  {
   "cell_type": "code",
   "execution_count": 4,
   "metadata": {},
   "outputs": [
    {
     "name": "stdout",
     "output_type": "stream",
     "text": [
      "(341, 9)\n"
     ]
    }
   ],
   "source": [
    "question_results_df = pd.read_csv('../data/question_results_df.csv')\n",
    "print(question_results_df.shape)"
   ]
  },
  {
   "cell_type": "code",
   "execution_count": 5,
   "metadata": {},
   "outputs": [],
   "source": [
    "group = 'Female'\n",
    "topics = list(question_results_df['topic'].unique())\n",
    "group_results = []\n",
    "group_count_df = pd.DataFrame(0, index=[group], columns=topics)\n",
    "for topic in question_results_df['topic'].unique():\n",
    "    topic_df = question_results_df[(question_results_df['topic'] == topic)]\n",
    "    group_count_df.at[group, topic] = len(topic_df[(topic_df['group'] == group)])\n",
    "    #group_results.append([topic, len(topic_df[(topic_df['group'] == 'Female')])])\n",
    "# qroup_results_df.to_csv('../data/group_results_df.csv')\n",
    "# group_count_df = pd.DataFrame(group_results)\n",
    "# group_count_df.columns = topics"
   ]
  },
  {
   "cell_type": "code",
   "execution_count": 6,
   "metadata": {},
   "outputs": [
    {
     "name": "stdout",
     "output_type": "stream",
     "text": [
      "14\n",
      "23\n",
      "20\n",
      "20\n",
      "13\n",
      "10\n",
      "6\n",
      "4\n"
     ]
    }
   ],
   "source": [
    "for topic in question_results_df['topic'].unique():\n",
    "    #print(topic)\n",
    "    topic_df = question_results_df[(question_results_df['topic'] == topic)]\n",
    "    print(len(topic_df['question'].unique()))"
   ]
  },
  {
   "cell_type": "code",
   "execution_count": 7,
   "metadata": {},
   "outputs": [],
   "source": [
    "    Gender = ['Male', 'Female']\n",
    "    Race = ['Asian', 'Black or African American', 'Hispanic or Latino', 'White', \n",
    "        'Multiple Race', 'American Indian or Alaska Native', 'Native Hawaiian or Other Pacific Islander']\n",
    "    Sexuality = ['Gay or lesbian', 'Bisexual', 'Not sure', 'Heterosexual (straight)']"
   ]
  },
  {
   "cell_type": "code",
   "execution_count": 8,
   "metadata": {},
   "outputs": [],
   "source": [
    "question_results_df[question_results_df['group'] == 'White'].to_csv('../data/White_tots_df.csv')"
   ]
  },
  {
   "cell_type": "code",
   "execution_count": null,
   "metadata": {},
   "outputs": [],
   "source": []
  }
 ],
 "metadata": {
  "kernelspec": {
   "display_name": "Python 3",
   "language": "python",
   "name": "python3"
  },
  "language_info": {
   "codemirror_mode": {
    "name": "ipython",
    "version": 3
   },
   "file_extension": ".py",
   "mimetype": "text/x-python",
   "name": "python",
   "nbconvert_exporter": "python",
   "pygments_lexer": "ipython3",
   "version": "3.8.5"
  }
 },
 "nbformat": 4,
 "nbformat_minor": 4
}
