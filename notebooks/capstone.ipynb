{
 "cells": [
  {
   "cell_type": "code",
   "execution_count": 2,
   "metadata": {},
   "outputs": [],
   "source": [
    "import pandas as pd\n",
    "import matplotlib.pyplot as plt\n",
    "import seaborn as sns\n",
    "\n",
    "#this is a python magic function to automatically show matplotlib plots\n",
    "%matplotlib inline    "
   ]
  },
  {
   "cell_type": "code",
   "execution_count": 31,
   "metadata": {},
   "outputs": [],
   "source": [
    "tu = pd.read_csv('../data/tobacco_use.csv')"
   ]
  },
  {
   "cell_type": "code",
   "execution_count": 32,
   "metadata": {},
   "outputs": [
    {
     "data": {
      "text/html": [
       "<div>\n",
       "<style scoped>\n",
       "    .dataframe tbody tr th:only-of-type {\n",
       "        vertical-align: middle;\n",
       "    }\n",
       "\n",
       "    .dataframe tbody tr th {\n",
       "        vertical-align: top;\n",
       "    }\n",
       "\n",
       "    .dataframe thead th {\n",
       "        text-align: right;\n",
       "    }\n",
       "</style>\n",
       "<table border=\"1\" class=\"dataframe\">\n",
       "  <thead>\n",
       "    <tr style=\"text-align: right;\">\n",
       "      <th></th>\n",
       "      <th>YEAR</th>\n",
       "      <th>LocationAbbr</th>\n",
       "      <th>LocationDesc</th>\n",
       "      <th>DataSource</th>\n",
       "      <th>Topic</th>\n",
       "      <th>Subtopic</th>\n",
       "      <th>ShortQuestionText</th>\n",
       "      <th>Greater_Risk_Question</th>\n",
       "      <th>Description</th>\n",
       "      <th>Data_Value_Symbol</th>\n",
       "      <th>...</th>\n",
       "      <th>Grade</th>\n",
       "      <th>GeoLocation</th>\n",
       "      <th>TopicId</th>\n",
       "      <th>SubTopicID</th>\n",
       "      <th>QuestionCode</th>\n",
       "      <th>LocationId</th>\n",
       "      <th>StratID1</th>\n",
       "      <th>StratID2</th>\n",
       "      <th>StratID3</th>\n",
       "      <th>StratificationType</th>\n",
       "    </tr>\n",
       "  </thead>\n",
       "  <tbody>\n",
       "    <tr>\n",
       "      <th>0</th>\n",
       "      <td>2017</td>\n",
       "      <td>PA</td>\n",
       "      <td>Pennsylvania</td>\n",
       "      <td>YRBSS</td>\n",
       "      <td>Tobacco Use</td>\n",
       "      <td>Other Tobacco Use</td>\n",
       "      <td>Current daily smokeless tobacco use</td>\n",
       "      <td>Currently used smokeless tobacco daily</td>\n",
       "      <td>chewing tobacco, snuff, dip, snus, or dissolva...</td>\n",
       "      <td>%</td>\n",
       "      <td>...</td>\n",
       "      <td>12th</td>\n",
       "      <td>(40.79373015200048, -77.86070029399963)</td>\n",
       "      <td>C02</td>\n",
       "      <td>C13</td>\n",
       "      <td>QNDAYSKL</td>\n",
       "      <td>42.0</td>\n",
       "      <td>S7</td>\n",
       "      <td>R11</td>\n",
       "      <td>G5</td>\n",
       "      <td>State</td>\n",
       "    </tr>\n",
       "    <tr>\n",
       "      <th>1</th>\n",
       "      <td>2017</td>\n",
       "      <td>OL</td>\n",
       "      <td>Orange County, FL</td>\n",
       "      <td>YRBSS</td>\n",
       "      <td>Tobacco Use</td>\n",
       "      <td>Other Tobacco Use</td>\n",
       "      <td>Current cigar use</td>\n",
       "      <td>Currently smoked cigars</td>\n",
       "      <td>cigars, cigarillos, or little cigars, on at le...</td>\n",
       "      <td>%</td>\n",
       "      <td>...</td>\n",
       "      <td>10th</td>\n",
       "      <td>(28.4845, -81.251883)</td>\n",
       "      <td>C02</td>\n",
       "      <td>C13</td>\n",
       "      <td>H38</td>\n",
       "      <td>109.0</td>\n",
       "      <td>S1</td>\n",
       "      <td>R1</td>\n",
       "      <td>G3</td>\n",
       "      <td>Local</td>\n",
       "    </tr>\n",
       "    <tr>\n",
       "      <th>2</th>\n",
       "      <td>2017</td>\n",
       "      <td>CK</td>\n",
       "      <td>Cherokee Nation</td>\n",
       "      <td>YRBSS</td>\n",
       "      <td>Tobacco Use</td>\n",
       "      <td>Cigarette Use</td>\n",
       "      <td>Ever cigarette use</td>\n",
       "      <td>Ever tried cigarette smoking</td>\n",
       "      <td>even one or two puffs</td>\n",
       "      <td>%</td>\n",
       "      <td>...</td>\n",
       "      <td>12th</td>\n",
       "      <td>NaN</td>\n",
       "      <td>C02</td>\n",
       "      <td>C12</td>\n",
       "      <td>H30</td>\n",
       "      <td>NaN</td>\n",
       "      <td>S1</td>\n",
       "      <td>R14</td>\n",
       "      <td>G5</td>\n",
       "      <td>Other</td>\n",
       "    </tr>\n",
       "    <tr>\n",
       "      <th>3</th>\n",
       "      <td>2017</td>\n",
       "      <td>MA</td>\n",
       "      <td>Massachusetts</td>\n",
       "      <td>YRBSS</td>\n",
       "      <td>Tobacco Use</td>\n",
       "      <td>Other Tobacco Use</td>\n",
       "      <td>Electronic vapor product use</td>\n",
       "      <td>Ever used an electronic vapor product</td>\n",
       "      <td>including e-cigarettes, e-cigars, e-pipes, vap...</td>\n",
       "      <td>%</td>\n",
       "      <td>...</td>\n",
       "      <td>11th</td>\n",
       "      <td>(42.27687047000046, -72.08269067499964)</td>\n",
       "      <td>C02</td>\n",
       "      <td>C13</td>\n",
       "      <td>H34</td>\n",
       "      <td>25.0</td>\n",
       "      <td>S8</td>\n",
       "      <td>R13</td>\n",
       "      <td>G4</td>\n",
       "      <td>State</td>\n",
       "    </tr>\n",
       "    <tr>\n",
       "      <th>4</th>\n",
       "      <td>2017</td>\n",
       "      <td>PR</td>\n",
       "      <td>Puerto Rico</td>\n",
       "      <td>YRBSS</td>\n",
       "      <td>Tobacco Use</td>\n",
       "      <td>Other Tobacco Use</td>\n",
       "      <td>Frequent cigar use</td>\n",
       "      <td>Currently frequently smoked cigars</td>\n",
       "      <td>cigars, cigarillos, or little cigars, on 20 or...</td>\n",
       "      <td>%</td>\n",
       "      <td>...</td>\n",
       "      <td>9th</td>\n",
       "      <td>(18.220833, -66.590149)</td>\n",
       "      <td>C02</td>\n",
       "      <td>C13</td>\n",
       "      <td>QNFRCGR</td>\n",
       "      <td>72.0</td>\n",
       "      <td>S1</td>\n",
       "      <td>R13</td>\n",
       "      <td>G2</td>\n",
       "      <td>Territory</td>\n",
       "    </tr>\n",
       "  </tbody>\n",
       "</table>\n",
       "<p>5 rows × 35 columns</p>\n",
       "</div>"
      ],
      "text/plain": [
       "   YEAR LocationAbbr       LocationDesc DataSource        Topic  \\\n",
       "0  2017           PA       Pennsylvania      YRBSS  Tobacco Use   \n",
       "1  2017           OL  Orange County, FL      YRBSS  Tobacco Use   \n",
       "2  2017           CK    Cherokee Nation      YRBSS  Tobacco Use   \n",
       "3  2017           MA      Massachusetts      YRBSS  Tobacco Use   \n",
       "4  2017           PR        Puerto Rico      YRBSS  Tobacco Use   \n",
       "\n",
       "            Subtopic                    ShortQuestionText  \\\n",
       "0  Other Tobacco Use  Current daily smokeless tobacco use   \n",
       "1  Other Tobacco Use                    Current cigar use   \n",
       "2      Cigarette Use                   Ever cigarette use   \n",
       "3  Other Tobacco Use         Electronic vapor product use   \n",
       "4  Other Tobacco Use                   Frequent cigar use   \n",
       "\n",
       "                    Greater_Risk_Question  \\\n",
       "0  Currently used smokeless tobacco daily   \n",
       "1                 Currently smoked cigars   \n",
       "2            Ever tried cigarette smoking   \n",
       "3   Ever used an electronic vapor product   \n",
       "4      Currently frequently smoked cigars   \n",
       "\n",
       "                                         Description Data_Value_Symbol  ...  \\\n",
       "0  chewing tobacco, snuff, dip, snus, or dissolva...                 %  ...   \n",
       "1  cigars, cigarillos, or little cigars, on at le...                 %  ...   \n",
       "2                              even one or two puffs                 %  ...   \n",
       "3  including e-cigarettes, e-cigars, e-pipes, vap...                 %  ...   \n",
       "4  cigars, cigarillos, or little cigars, on 20 or...                 %  ...   \n",
       "\n",
       "  Grade                              GeoLocation  TopicId  SubTopicID  \\\n",
       "0  12th  (40.79373015200048, -77.86070029399963)      C02         C13   \n",
       "1  10th                    (28.4845, -81.251883)      C02         C13   \n",
       "2  12th                                      NaN      C02         C12   \n",
       "3  11th  (42.27687047000046, -72.08269067499964)      C02         C13   \n",
       "4   9th                  (18.220833, -66.590149)      C02         C13   \n",
       "\n",
       "   QuestionCode  LocationId StratID1  StratID2  StratID3  StratificationType  \n",
       "0      QNDAYSKL        42.0       S7       R11        G5               State  \n",
       "1           H38       109.0       S1        R1        G3               Local  \n",
       "2           H30         NaN       S1       R14        G5               Other  \n",
       "3           H34        25.0       S8       R13        G4               State  \n",
       "4       QNFRCGR        72.0       S1       R13        G2           Territory  \n",
       "\n",
       "[5 rows x 35 columns]"
      ]
     },
     "execution_count": 32,
     "metadata": {},
     "output_type": "execute_result"
    }
   ],
   "source": [
    "tu.head()"
   ]
  },
  {
   "cell_type": "code",
   "execution_count": 33,
   "metadata": {},
   "outputs": [
    {
     "data": {
      "text/plain": [
       "(154920, 35)"
      ]
     },
     "execution_count": 33,
     "metadata": {},
     "output_type": "execute_result"
    }
   ],
   "source": [
    "tu.shape"
   ]
  },
  {
   "cell_type": "code",
   "execution_count": 34,
   "metadata": {},
   "outputs": [
    {
     "data": {
      "text/plain": [
       "Index(['YEAR', 'LocationAbbr', 'LocationDesc', 'DataSource', 'Topic',\n",
       "       'Subtopic', 'ShortQuestionText', 'Greater_Risk_Question', 'Description',\n",
       "       'Data_Value_Symbol', 'Data_Value_Type', 'Greater_Risk_Data_Value',\n",
       "       'Greater_Risk_Data_Value_Footnote_Symbol',\n",
       "       'Greater_Risk_Data_Value_Footnote', 'Greater_Risk_Low_Confidence_Limit',\n",
       "       'Greater_Risk_High_Confidence_Limit', 'Lesser_Risk_Question',\n",
       "       'Lesser_Risk_Data_Value', 'Lesser_Risk_Data_Value_Footnote_Symbol',\n",
       "       'Lesser_Risk_Data_Value_Footnote', 'Lesser_Risk_Low_Confidence_Limit',\n",
       "       'Lesser_Risk_High_Confidence_Limit', 'Sample_Size', 'Sex', 'Race',\n",
       "       'Grade', 'GeoLocation', 'TopicId', 'SubTopicID', 'QuestionCode',\n",
       "       'LocationId', 'StratID1', 'StratID2', 'StratID3', 'StratificationType'],\n",
       "      dtype='object')"
      ]
     },
     "execution_count": 34,
     "metadata": {},
     "output_type": "execute_result"
    }
   ],
   "source": [
    "tu.columns"
   ]
  },
  {
   "cell_type": "code",
   "execution_count": 35,
   "metadata": {},
   "outputs": [],
   "source": [
    "sns.set_theme()"
   ]
  },
  {
   "cell_type": "code",
   "execution_count": 45,
   "metadata": {},
   "outputs": [
    {
     "data": {
      "text/plain": [
       "<AxesSubplot:xlabel='Subtopic', ylabel='count'>"
      ]
     },
     "execution_count": 45,
     "metadata": {},
     "output_type": "execute_result"
    },
    {
     "data": {
      "image/png": "[encoded data removed]",
      "text/plain": [
       "<Figure size 432x288 with 1 Axes>"
      ]
     },
     "metadata": {},
     "output_type": "display_data"
    }
   ],
   "source": [
    "sns.countplot(\n",
    "    data=tu,\n",
    "    x=\"Subtopic\"\n",
    ")\n"
   ]
  },
  {
   "cell_type": "code",
   "execution_count": null,
   "metadata": {},
   "outputs": [],
   "source": []
  }
 ],
 "metadata": {
  "kernelspec": {
   "display_name": "Python 3",
   "language": "python",
   "name": "python3"
  },
  "language_info": {
   "codemirror_mode": {
    "name": "ipython",
    "version": 3
   },
   "file_extension": ".py",
   "mimetype": "text/x-python",
   "name": "python",
   "nbconvert_exporter": "python",
   "pygments_lexer": "ipython3",
   "version": "3.8.5"
  }
 },
 "nbformat": 4,
 "nbformat_minor": 4
}
